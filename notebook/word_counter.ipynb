{
 "cells": [
  {
   "cell_type": "code",
   "execution_count": 2,
   "metadata": {
    "collapsed": true
   },
   "outputs": [],
   "source": [
    "import pandas as pd"
   ]
  },
  {
   "cell_type": "code",
   "execution_count": 30,
   "metadata": {
    "collapsed": true
   },
   "outputs": [],
   "source": [
    "desc_df = pd.read_excel(\"../data/desc.xlsx\", encoding='utf-8')"
   ]
  },
  {
   "cell_type": "code",
   "execution_count": 31,
   "metadata": {
    "collapsed": false
   },
   "outputs": [
    {
     "data": {
      "text/html": [
       "<div>\n",
       "<style>\n",
       "    .dataframe thead tr:only-child th {\n",
       "        text-align: right;\n",
       "    }\n",
       "\n",
       "    .dataframe thead th {\n",
       "        text-align: left;\n",
       "    }\n",
       "\n",
       "    .dataframe tbody tr th {\n",
       "        vertical-align: top;\n",
       "    }\n",
       "</style>\n",
       "<table border=\"1\" class=\"dataframe\">\n",
       "  <thead>\n",
       "    <tr style=\"text-align: right;\">\n",
       "      <th></th>\n",
       "      <th>project_id</th>\n",
       "      <th>project_address</th>\n",
       "      <th>desc_total</th>\n",
       "      <th>video_desc</th>\n",
       "      <th>risk_desc</th>\n",
       "    </tr>\n",
       "  </thead>\n",
       "  <tbody>\n",
       "    <tr>\n",
       "      <th>0</th>\n",
       "      <td>804380059</td>\n",
       "      <td>/projects/1552697291/ufactory-3d-printing-shop/</td>\n",
       "      <td>Follow us on  Facebook  and  Twitter 횂혻and pl...</td>\n",
       "      <td>my name is Matt Elkins not here to tell you a...</td>\n",
       "      <td>Risks and challenges The biggest challenge of...</td>\n",
       "    </tr>\n",
       "    <tr>\n",
       "      <th>1</th>\n",
       "      <td>1560420632</td>\n",
       "      <td>/projects/941562770/nervous-dating-dating-for-...</td>\n",
       "      <td>\"I get very nervous when I think someone is f...</td>\n",
       "      <td>introverts the idea of going on the site can ...</td>\n",
       "      <td>Risks and challenges Fulfilment of your 'free...</td>\n",
       "    </tr>\n",
       "    <tr>\n",
       "      <th>2</th>\n",
       "      <td>278626358</td>\n",
       "      <td>/projects/703843051/messenger-rock/</td>\n",
       "      <td>Hi, do you feel an inner hatred that you wish...</td>\n",
       "      <td>NaN</td>\n",
       "      <td>Risks and challenges The rock quality. Learn ...</td>\n",
       "    </tr>\n",
       "    <tr>\n",
       "      <th>3</th>\n",
       "      <td>907761690</td>\n",
       "      <td>/projects/1407693875/wind-turbine-phone-charge...</td>\n",
       "      <td>The goal of my project is to build a wind tur...</td>\n",
       "      <td>NaN</td>\n",
       "      <td>Risks and challenges The risks and challenges...</td>\n",
       "    </tr>\n",
       "    <tr>\n",
       "      <th>4</th>\n",
       "      <td>1512099429</td>\n",
       "      <td>/projects/358359447/crash-surveillance-drone-csd/</td>\n",
       "      <td>The project will consist of building a protot...</td>\n",
       "      <td>NaN</td>\n",
       "      <td>Risks and challenges The initial project is t...</td>\n",
       "    </tr>\n",
       "  </tbody>\n",
       "</table>\n",
       "</div>"
      ],
      "text/plain": [
       "   project_id                                    project_address  \\\n",
       "0   804380059    /projects/1552697291/ufactory-3d-printing-shop/   \n",
       "1  1560420632  /projects/941562770/nervous-dating-dating-for-...   \n",
       "2   278626358                /projects/703843051/messenger-rock/   \n",
       "3   907761690  /projects/1407693875/wind-turbine-phone-charge...   \n",
       "4  1512099429  /projects/358359447/crash-surveillance-drone-csd/   \n",
       "\n",
       "                                          desc_total  \\\n",
       "0   Follow us on  Facebook  and  Twitter 횂혻and pl...   \n",
       "1   \"I get very nervous when I think someone is f...   \n",
       "2   Hi, do you feel an inner hatred that you wish...   \n",
       "3   The goal of my project is to build a wind tur...   \n",
       "4   The project will consist of building a protot...   \n",
       "\n",
       "                                          video_desc  \\\n",
       "0   my name is Matt Elkins not here to tell you a...   \n",
       "1   introverts the idea of going on the site can ...   \n",
       "2                                                NaN   \n",
       "3                                                NaN   \n",
       "4                                                NaN   \n",
       "\n",
       "                                           risk_desc  \n",
       "0   Risks and challenges The biggest challenge of...  \n",
       "1   Risks and challenges Fulfilment of your 'free...  \n",
       "2   Risks and challenges The rock quality. Learn ...  \n",
       "3   Risks and challenges The risks and challenges...  \n",
       "4   Risks and challenges The initial project is t...  "
      ]
     },
     "execution_count": 31,
     "metadata": {},
     "output_type": "execute_result"
    }
   ],
   "source": [
    "desc_df.head()"
   ]
  },
  {
   "cell_type": "markdown",
   "metadata": {},
   "source": [
    "2. video desc / 전체 desc (구글드라이브에 정리해놓은거) 에서 word count 랑 unique word count 계산 (word count 는 쉽게 할 수 있는데 unique word 계산하는게 바로 안되서 혹시 가능하면 부탁할게ㅎㅎ)"
   ]
  },
  {
   "cell_type": "code",
   "execution_count": 3,
   "metadata": {
    "collapsed": true
   },
   "outputs": [],
   "source": [
    "import math\n",
    "\n",
    "def preprocessor(text):\n",
    "    if (isinstance(text, float) == True) or (isinstance(text, int) == True):\n",
    "        text = None\n",
    "    else:\n",
    "        text = text.encode('ascii',errors='ignore')\n",
    "        \n",
    "    return text"
   ]
  },
  {
   "cell_type": "code",
   "execution_count": 4,
   "metadata": {
    "collapsed": true
   },
   "outputs": [],
   "source": [
    "def get_word_counter(text):\n",
    "    wordCounter = {}\n",
    "    \n",
    "    if text == None:\n",
    "        return wordCounter\n",
    "\n",
    "    word_list = text.replace(',','').replace('\\'','').replace('.','').lower().split()\n",
    "\n",
    "    for word in word_list:\n",
    "        if word not in wordCounter:\n",
    "            wordCounter[word] = 1\n",
    "        else:\n",
    "            wordCounter[word] = wordCounter[word] + 1\n",
    "\n",
    "    return wordCounter"
   ]
  },
  {
   "cell_type": "code",
   "execution_count": 148,
   "metadata": {
    "collapsed": false
   },
   "outputs": [
    {
     "name": "stderr",
     "output_type": "stream",
     "text": [
      "100%|██████████| 7571/7571 [00:04<00:00, 1799.84it/s]\n"
     ]
    }
   ],
   "source": [
    "import tqdm\n",
    "\n",
    "word_count_list = []\n",
    "\n",
    "for i, r in tqdm.tqdm(desc_df.iterrows(), total=desc_df.shape[0]):\n",
    "    \n",
    "    word_count_info = {}    \n",
    "    word_count_info['project_id'] = r['project_id']    \n",
    "    word_count_info['project_address'] = r['project_address']\n",
    "    \n",
    "    desc = r['desc_total']\n",
    "    desc = preprocessor(desc)        \n",
    "    word_count_dict = get_word_counter(desc)\n",
    "    \n",
    "    if desc == None:\n",
    "        word_count_info['desc_total'] = desc\n",
    "        word_count_info['desc_total_word_count'] = None\n",
    "        word_count_info['desc_total_unique_word_count'] = None\n",
    "    else:\n",
    "        word_count_info['desc_total'] = desc        \n",
    "        word_count_info['desc_total_word_count'] = sum(word_count_dict.values())\n",
    "        word_count_info['desc_total_unique_word_count'] = len(word_count_dict.keys())\n",
    "    \n",
    "    video_desc = r['video_desc']\n",
    "    video_desc = preprocessor(video_desc)        \n",
    "    word_count_dict = get_word_counter(video_desc)\n",
    "    \n",
    "    if video_desc == None:\n",
    "        word_count_info['video_desc'] = video_desc        \n",
    "        word_count_info['video_desc_word_count'] = None\n",
    "        word_count_info['video_desc_unique_word_count'] = None\n",
    "        \n",
    "    else:\n",
    "        word_count_info['video_desc'] = video_desc        \n",
    "        word_count_info['video_desc_word_count'] = sum(word_count_dict.values())\n",
    "        word_count_info['video_desc_unique_word_count'] = len(word_count_dict.keys())\n",
    "\n",
    "    risk_desc = r['risk_desc']    \n",
    "    risk_desc = preprocessor(risk_desc)        \n",
    "    word_count_info['risk_desc'] = risk_desc                \n",
    "        \n",
    "    word_count_list.append(word_count_info)"
   ]
  },
  {
   "cell_type": "code",
   "execution_count": 150,
   "metadata": {
    "collapsed": false
   },
   "outputs": [],
   "source": [
    "word_count_df = pd.DataFrame(word_count_list)"
   ]
  },
  {
   "cell_type": "code",
   "execution_count": 151,
   "metadata": {
    "collapsed": false
   },
   "outputs": [
    {
     "data": {
      "text/html": [
       "<div>\n",
       "<style>\n",
       "    .dataframe thead tr:only-child th {\n",
       "        text-align: right;\n",
       "    }\n",
       "\n",
       "    .dataframe thead th {\n",
       "        text-align: left;\n",
       "    }\n",
       "\n",
       "    .dataframe tbody tr th {\n",
       "        vertical-align: top;\n",
       "    }\n",
       "</style>\n",
       "<table border=\"1\" class=\"dataframe\">\n",
       "  <thead>\n",
       "    <tr style=\"text-align: right;\">\n",
       "      <th></th>\n",
       "      <th>desc_total</th>\n",
       "      <th>desc_total_unique_word_count</th>\n",
       "      <th>desc_total_word_count</th>\n",
       "      <th>project_address</th>\n",
       "      <th>project_id</th>\n",
       "      <th>risk_desc</th>\n",
       "      <th>video_desc</th>\n",
       "      <th>video_desc_unique_word_count</th>\n",
       "      <th>video_desc_word_count</th>\n",
       "    </tr>\n",
       "  </thead>\n",
       "  <tbody>\n",
       "    <tr>\n",
       "      <th>0</th>\n",
       "      <td>Follow us on  Facebook  and  Twitter and plea...</td>\n",
       "      <td>278.0</td>\n",
       "      <td>528.0</td>\n",
       "      <td>/projects/1552697291/ufactory-3d-printing-shop/</td>\n",
       "      <td>804380059</td>\n",
       "      <td>Risks and challenges The biggest challenge of...</td>\n",
       "      <td>my name is Matt Elkins not here to tell you a...</td>\n",
       "      <td>222.0</td>\n",
       "      <td>442.0</td>\n",
       "    </tr>\n",
       "    <tr>\n",
       "      <th>1</th>\n",
       "      <td>\"I get very nervous when I think someone is f...</td>\n",
       "      <td>340.0</td>\n",
       "      <td>734.0</td>\n",
       "      <td>/projects/941562770/nervous-dating-dating-for-...</td>\n",
       "      <td>1560420632</td>\n",
       "      <td>Risks and challenges Fulfilment of your 'free...</td>\n",
       "      <td>introverts the idea of going on the site can ...</td>\n",
       "      <td>79.0</td>\n",
       "      <td>116.0</td>\n",
       "    </tr>\n",
       "    <tr>\n",
       "      <th>2</th>\n",
       "      <td>Hi, do you feel an inner hatred that you wish...</td>\n",
       "      <td>55.0</td>\n",
       "      <td>65.0</td>\n",
       "      <td>/projects/703843051/messenger-rock/</td>\n",
       "      <td>278626358</td>\n",
       "      <td>Risks and challenges The rock quality. Learn ...</td>\n",
       "      <td>None</td>\n",
       "      <td>NaN</td>\n",
       "      <td>NaN</td>\n",
       "    </tr>\n",
       "    <tr>\n",
       "      <th>3</th>\n",
       "      <td>The goal of my project is to build a wind tur...</td>\n",
       "      <td>135.0</td>\n",
       "      <td>257.0</td>\n",
       "      <td>/projects/1407693875/wind-turbine-phone-charge...</td>\n",
       "      <td>907761690</td>\n",
       "      <td>Risks and challenges The risks and challenges...</td>\n",
       "      <td>None</td>\n",
       "      <td>NaN</td>\n",
       "      <td>NaN</td>\n",
       "    </tr>\n",
       "    <tr>\n",
       "      <th>4</th>\n",
       "      <td>The project will consist of building a protot...</td>\n",
       "      <td>75.0</td>\n",
       "      <td>105.0</td>\n",
       "      <td>/projects/358359447/crash-surveillance-drone-csd/</td>\n",
       "      <td>1512099429</td>\n",
       "      <td>Risks and challenges The initial project is t...</td>\n",
       "      <td>None</td>\n",
       "      <td>NaN</td>\n",
       "      <td>NaN</td>\n",
       "    </tr>\n",
       "  </tbody>\n",
       "</table>\n",
       "</div>"
      ],
      "text/plain": [
       "                                          desc_total  \\\n",
       "0   Follow us on  Facebook  and  Twitter and plea...   \n",
       "1   \"I get very nervous when I think someone is f...   \n",
       "2   Hi, do you feel an inner hatred that you wish...   \n",
       "3   The goal of my project is to build a wind tur...   \n",
       "4   The project will consist of building a protot...   \n",
       "\n",
       "   desc_total_unique_word_count  desc_total_word_count  \\\n",
       "0                         278.0                  528.0   \n",
       "1                         340.0                  734.0   \n",
       "2                          55.0                   65.0   \n",
       "3                         135.0                  257.0   \n",
       "4                          75.0                  105.0   \n",
       "\n",
       "                                     project_address  project_id  \\\n",
       "0    /projects/1552697291/ufactory-3d-printing-shop/   804380059   \n",
       "1  /projects/941562770/nervous-dating-dating-for-...  1560420632   \n",
       "2                /projects/703843051/messenger-rock/   278626358   \n",
       "3  /projects/1407693875/wind-turbine-phone-charge...   907761690   \n",
       "4  /projects/358359447/crash-surveillance-drone-csd/  1512099429   \n",
       "\n",
       "                                           risk_desc  \\\n",
       "0   Risks and challenges The biggest challenge of...   \n",
       "1   Risks and challenges Fulfilment of your 'free...   \n",
       "2   Risks and challenges The rock quality. Learn ...   \n",
       "3   Risks and challenges The risks and challenges...   \n",
       "4   Risks and challenges The initial project is t...   \n",
       "\n",
       "                                          video_desc  \\\n",
       "0   my name is Matt Elkins not here to tell you a...   \n",
       "1   introverts the idea of going on the site can ...   \n",
       "2                                               None   \n",
       "3                                               None   \n",
       "4                                               None   \n",
       "\n",
       "   video_desc_unique_word_count  video_desc_word_count  \n",
       "0                         222.0                  442.0  \n",
       "1                          79.0                  116.0  \n",
       "2                           NaN                    NaN  \n",
       "3                           NaN                    NaN  \n",
       "4                           NaN                    NaN  "
      ]
     },
     "execution_count": 151,
     "metadata": {},
     "output_type": "execute_result"
    }
   ],
   "source": [
    "word_count_df.head()"
   ]
  },
  {
   "cell_type": "code",
   "execution_count": 152,
   "metadata": {
    "collapsed": false
   },
   "outputs": [
    {
     "data": {
      "text/plain": [
       "Index([u'desc_total', u'desc_total_unique_word_count',\n",
       "       u'desc_total_word_count', u'project_address', u'project_id',\n",
       "       u'risk_desc', u'video_desc', u'video_desc_unique_word_count',\n",
       "       u'video_desc_word_count'],\n",
       "      dtype='object')"
      ]
     },
     "execution_count": 152,
     "metadata": {},
     "output_type": "execute_result"
    }
   ],
   "source": [
    "word_count_df.columns"
   ]
  },
  {
   "cell_type": "code",
   "execution_count": 153,
   "metadata": {
    "collapsed": true
   },
   "outputs": [],
   "source": [
    "word_count_df = word_count_df[['project_id', 'project_address', 'desc_total', 'video_desc', 'risk_desc', 'desc_total_word_count',\n",
    "                              'desc_total_unique_word_count', 'video_desc_word_count','video_desc_unique_word_count',]]"
   ]
  },
  {
   "cell_type": "code",
   "execution_count": 155,
   "metadata": {
    "collapsed": true
   },
   "outputs": [],
   "source": [
    "word_count_df.to_excel(\"desc_word_count.xlsx\")"
   ]
  },
  {
   "cell_type": "markdown",
   "metadata": {},
   "source": [
    "# 2nd"
   ]
  },
  {
   "cell_type": "code",
   "execution_count": 5,
   "metadata": {
    "collapsed": false
   },
   "outputs": [],
   "source": [
    "subtitle_df = pd.read_excel('Subtitle.xlsx')"
   ]
  },
  {
   "cell_type": "code",
   "execution_count": 6,
   "metadata": {
    "collapsed": false
   },
   "outputs": [
    {
     "data": {
      "text/html": [
       "<div>\n",
       "<style>\n",
       "    .dataframe thead tr:only-child th {\n",
       "        text-align: right;\n",
       "    }\n",
       "\n",
       "    .dataframe thead th {\n",
       "        text-align: left;\n",
       "    }\n",
       "\n",
       "    .dataframe tbody tr th {\n",
       "        vertical-align: top;\n",
       "    }\n",
       "</style>\n",
       "<table border=\"1\" class=\"dataframe\">\n",
       "  <thead>\n",
       "    <tr style=\"text-align: right;\">\n",
       "      <th></th>\n",
       "      <th>project_id</th>\n",
       "      <th>subtitle</th>\n",
       "    </tr>\n",
       "  </thead>\n",
       "  <tbody>\n",
       "    <tr>\n",
       "      <th>0</th>\n",
       "      <td>475640064</td>\n",
       "      <td>over 70% of the planet is covered in water our...</td>\n",
       "    </tr>\n",
       "    <tr>\n",
       "      <th>1</th>\n",
       "      <td>1493578744</td>\n",
       "      <td>hi everyone I'm John Maitland I've been a poli...</td>\n",
       "    </tr>\n",
       "    <tr>\n",
       "      <th>2</th>\n",
       "      <td>1577324951</td>\n",
       "      <td>people think with touch if you can't feel how ...</td>\n",
       "    </tr>\n",
       "    <tr>\n",
       "      <th>3</th>\n",
       "      <td>1204221555</td>\n",
       "      <td>weekend mechanic 3d is an Android app for anyo...</td>\n",
       "    </tr>\n",
       "    <tr>\n",
       "      <th>4</th>\n",
       "      <td>1059666394</td>\n",
       "      <td>how many times have you raced on lovely at the...</td>\n",
       "    </tr>\n",
       "  </tbody>\n",
       "</table>\n",
       "</div>"
      ],
      "text/plain": [
       "   project_id                                           subtitle\n",
       "0   475640064  over 70% of the planet is covered in water our...\n",
       "1  1493578744  hi everyone I'm John Maitland I've been a poli...\n",
       "2  1577324951  people think with touch if you can't feel how ...\n",
       "3  1204221555  weekend mechanic 3d is an Android app for anyo...\n",
       "4  1059666394  how many times have you raced on lovely at the..."
      ]
     },
     "execution_count": 6,
     "metadata": {},
     "output_type": "execute_result"
    }
   ],
   "source": [
    "subtitle_df.head()"
   ]
  },
  {
   "cell_type": "code",
   "execution_count": 15,
   "metadata": {
    "collapsed": false
   },
   "outputs": [
    {
     "name": "stderr",
     "output_type": "stream",
     "text": [
      "100%|██████████| 3204/3204 [00:01<00:00, 2955.16it/s]\n"
     ]
    }
   ],
   "source": [
    "import tqdm\n",
    "\n",
    "word_count_list = []\n",
    "\n",
    "for i, r in tqdm.tqdm(subtitle_df.iterrows(), total=subtitle_df.shape[0]):\n",
    "\n",
    "    word_count_info = {}    \n",
    "    word_count_info['project_id'] = r['project_id']    \n",
    "    \n",
    "    desc = r['subtitle']\n",
    "    desc = preprocessor(desc)        \n",
    "    word_count_dict = get_word_counter(desc)\n",
    "    \n",
    "    if desc == None:\n",
    "        word_count_info['subtitle_stripped'] = desc\n",
    "        word_count_info['subtitle_word_count'] = None\n",
    "        word_count_info['subtitle_unique_word_count'] = None\n",
    "    else:\n",
    "        word_count_info['subtitle_stripped'] = desc        \n",
    "        word_count_info['subtitle_word_count'] = sum(word_count_dict.values())\n",
    "        word_count_info['subtitle_unique_word_count'] = len(word_count_dict.keys())\n",
    "    \n",
    "    word_count_list.append(word_count_info)\n",
    "    "
   ]
  },
  {
   "cell_type": "code",
   "execution_count": 16,
   "metadata": {
    "collapsed": false
   },
   "outputs": [],
   "source": [
    "word_count_df = pd.DataFrame(word_count_list)"
   ]
  },
  {
   "cell_type": "code",
   "execution_count": 17,
   "metadata": {
    "collapsed": true
   },
   "outputs": [],
   "source": [
    "word_count_df = word_count_df[['project_id','subtitle_stripped','subtitle_word_count','subtitle_unique_word_count']]"
   ]
  },
  {
   "cell_type": "code",
   "execution_count": 19,
   "metadata": {
    "collapsed": false
   },
   "outputs": [],
   "source": [
    "word_count_df.to_excel('Subtitle_word_count.xlsx')"
   ]
  }
 ],
 "metadata": {
  "kernelspec": {
   "display_name": "py35",
   "language": "python",
   "name": "py35"
  },
  "language_info": {
   "codemirror_mode": {
    "name": "ipython",
    "version": 2
   },
   "file_extension": ".py",
   "mimetype": "text/x-python",
   "name": "python",
   "nbconvert_exporter": "python",
   "pygments_lexer": "ipython2",
   "version": "2.7.12"
  }
 },
 "nbformat": 4,
 "nbformat_minor": 0
}
