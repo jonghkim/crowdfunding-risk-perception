{
 "cells": [
  {
   "cell_type": "code",
   "execution_count": 1,
   "metadata": {
    "collapsed": true
   },
   "outputs": [],
   "source": [
    "import pandas as pd"
   ]
  },
  {
   "cell_type": "code",
   "execution_count": 2,
   "metadata": {
    "collapsed": true
   },
   "outputs": [],
   "source": [
    "desc_df = pd.read_excel(\"../data/desc.xlsx\")"
   ]
  },
  {
   "cell_type": "code",
   "execution_count": 3,
   "metadata": {
    "collapsed": false
   },
   "outputs": [
    {
     "data": {
      "text/html": [
       "<div>\n",
       "<style>\n",
       "    .dataframe thead tr:only-child th {\n",
       "        text-align: right;\n",
       "    }\n",
       "\n",
       "    .dataframe thead th {\n",
       "        text-align: left;\n",
       "    }\n",
       "\n",
       "    .dataframe tbody tr th {\n",
       "        vertical-align: top;\n",
       "    }\n",
       "</style>\n",
       "<table border=\"1\" class=\"dataframe\">\n",
       "  <thead>\n",
       "    <tr style=\"text-align: right;\">\n",
       "      <th></th>\n",
       "      <th>project_id</th>\n",
       "      <th>project_address</th>\n",
       "      <th>desc_total</th>\n",
       "      <th>video_desc</th>\n",
       "      <th>risk_desc</th>\n",
       "    </tr>\n",
       "  </thead>\n",
       "  <tbody>\n",
       "    <tr>\n",
       "      <th>0</th>\n",
       "      <td>804380059</td>\n",
       "      <td>/projects/1552697291/ufactory-3d-printing-shop/</td>\n",
       "      <td>Follow us on  Facebook  and  Twitter 횂혻and pl...</td>\n",
       "      <td>my name is Matt Elkins not here to tell you a...</td>\n",
       "      <td>Risks and challenges The biggest challenge of...</td>\n",
       "    </tr>\n",
       "    <tr>\n",
       "      <th>1</th>\n",
       "      <td>1560420632</td>\n",
       "      <td>/projects/941562770/nervous-dating-dating-for-...</td>\n",
       "      <td>\"I get very nervous when I think someone is f...</td>\n",
       "      <td>introverts the idea of going on the site can ...</td>\n",
       "      <td>Risks and challenges Fulfilment of your 'free...</td>\n",
       "    </tr>\n",
       "    <tr>\n",
       "      <th>2</th>\n",
       "      <td>278626358</td>\n",
       "      <td>/projects/703843051/messenger-rock/</td>\n",
       "      <td>Hi, do you feel an inner hatred that you wish...</td>\n",
       "      <td>NaN</td>\n",
       "      <td>Risks and challenges The rock quality. Learn ...</td>\n",
       "    </tr>\n",
       "    <tr>\n",
       "      <th>3</th>\n",
       "      <td>907761690</td>\n",
       "      <td>/projects/1407693875/wind-turbine-phone-charge...</td>\n",
       "      <td>The goal of my project is to build a wind tur...</td>\n",
       "      <td>NaN</td>\n",
       "      <td>Risks and challenges The risks and challenges...</td>\n",
       "    </tr>\n",
       "    <tr>\n",
       "      <th>4</th>\n",
       "      <td>1512099429</td>\n",
       "      <td>/projects/358359447/crash-surveillance-drone-csd/</td>\n",
       "      <td>The project will consist of building a protot...</td>\n",
       "      <td>NaN</td>\n",
       "      <td>Risks and challenges The initial project is t...</td>\n",
       "    </tr>\n",
       "  </tbody>\n",
       "</table>\n",
       "</div>"
      ],
      "text/plain": [
       "   project_id                                    project_address  \\\n",
       "0   804380059    /projects/1552697291/ufactory-3d-printing-shop/   \n",
       "1  1560420632  /projects/941562770/nervous-dating-dating-for-...   \n",
       "2   278626358                /projects/703843051/messenger-rock/   \n",
       "3   907761690  /projects/1407693875/wind-turbine-phone-charge...   \n",
       "4  1512099429  /projects/358359447/crash-surveillance-drone-csd/   \n",
       "\n",
       "                                          desc_total  \\\n",
       "0   Follow us on  Facebook  and  Twitter 횂혻and pl...   \n",
       "1   \"I get very nervous when I think someone is f...   \n",
       "2   Hi, do you feel an inner hatred that you wish...   \n",
       "3   The goal of my project is to build a wind tur...   \n",
       "4   The project will consist of building a protot...   \n",
       "\n",
       "                                          video_desc  \\\n",
       "0   my name is Matt Elkins not here to tell you a...   \n",
       "1   introverts the idea of going on the site can ...   \n",
       "2                                                NaN   \n",
       "3                                                NaN   \n",
       "4                                                NaN   \n",
       "\n",
       "                                           risk_desc  \n",
       "0   Risks and challenges The biggest challenge of...  \n",
       "1   Risks and challenges Fulfilment of your 'free...  \n",
       "2   Risks and challenges The rock quality. Learn ...  \n",
       "3   Risks and challenges The risks and challenges...  \n",
       "4   Risks and challenges The initial project is t...  "
      ]
     },
     "execution_count": 3,
     "metadata": {},
     "output_type": "execute_result"
    }
   ],
   "source": [
    "desc_df.head()"
   ]
  },
  {
   "cell_type": "code",
   "execution_count": 4,
   "metadata": {
    "collapsed": true
   },
   "outputs": [],
   "source": [
    "new_desc_df = desc_df[['project_id', 'project_address']]"
   ]
  },
  {
   "cell_type": "code",
   "execution_count": 73,
   "metadata": {
    "collapsed": true
   },
   "outputs": [],
   "source": [
    "from bs4 import BeautifulSoup\n",
    "from bleach import clean\n",
    "\n",
    "def strip_html(fpath, allowed=['p']):\n",
    "    try:\n",
    "        text = open(fpath, \"r\").read()\n",
    "        text = text.partition(\"Story</h3>\")[2]\n",
    "        text = text.partition(\"risks-and-challenges\")[0]\n",
    "        soup = BeautifulSoup(text, 'html.parser')    \n",
    "\n",
    "        cleaned_text = clean(soup, tags=allowed, strip=True, strip_comments=True)\n",
    "        #cleaned_text.encode('ascii',errors='ignore')\n",
    "        cleaned_text = cleaned_text.replace(u'\\xa0',u' ')\n",
    "        cleaned_text = cleaned_text.replace(u'\\n',u' ')\n",
    "        cleaned_text = cleaned_text.replace(u'<p>',u' ')    \n",
    "        cleaned_text = cleaned_text.replace(u'</p>',u' ')\n",
    "\n",
    "        if cleaned_text[0] == ' ':\n",
    "            cleaned_text = cleaned_text[1:]\n",
    "\n",
    "        return cleaned_text\n",
    "    except:\n",
    "        return \"\"        "
   ]
  },
  {
   "cell_type": "code",
   "execution_count": 76,
   "metadata": {
    "collapsed": false
   },
   "outputs": [
    {
     "name": "stderr",
     "output_type": "stream",
     "text": [
      "100%|██████████| 7571/7571 [21:42<00:00,  9.24it/s]\n"
     ]
    }
   ],
   "source": [
    "import tqdm\n",
    "import os\n",
    "import codecs\n",
    "import time\n",
    "\n",
    "cwd = os.getcwd()\n",
    "\n",
    "desc_list = []\n",
    "\n",
    "for i, r in tqdm.tqdm(new_desc_df.iterrows(), total=new_desc_df.shape[0]):\n",
    "    desc_dict = {}\n",
    "    desc_dict['project_address'] = r['project_address']\n",
    "    \n",
    "    fpath = cwd + \"/html/{}.html\".format(i)\n",
    "    text = strip_html(fpath, allowed=['p'])\n",
    "    \n",
    "    desc_dict['desc_total_renewal'] = text\n",
    "    \n",
    "    desc_list.append(desc_dict)"
   ]
  },
  {
   "cell_type": "code",
   "execution_count": 77,
   "metadata": {
    "collapsed": true
   },
   "outputs": [],
   "source": [
    "desc_renewal_df = pd.DataFrame(desc_list)"
   ]
  },
  {
   "cell_type": "code",
   "execution_count": 79,
   "metadata": {
    "collapsed": false
   },
   "outputs": [
    {
     "data": {
      "text/html": [
       "<div>\n",
       "<style>\n",
       "    .dataframe thead tr:only-child th {\n",
       "        text-align: right;\n",
       "    }\n",
       "\n",
       "    .dataframe thead th {\n",
       "        text-align: left;\n",
       "    }\n",
       "\n",
       "    .dataframe tbody tr th {\n",
       "        vertical-align: top;\n",
       "    }\n",
       "</style>\n",
       "<table border=\"1\" class=\"dataframe\">\n",
       "  <thead>\n",
       "    <tr style=\"text-align: right;\">\n",
       "      <th></th>\n",
       "      <th>desc_total_renewal</th>\n",
       "      <th>project_address</th>\n",
       "    </tr>\n",
       "  </thead>\n",
       "  <tbody>\n",
       "    <tr>\n",
       "      <th>0</th>\n",
       "      <td>Follow us on Facebook and Twitter and please s...</td>\n",
       "      <td>/projects/1552697291/ufactory-3d-printing-shop/</td>\n",
       "    </tr>\n",
       "    <tr>\n",
       "      <th>1</th>\n",
       "      <td>\"I get very nervous when I think someone is fa...</td>\n",
       "      <td>/projects/941562770/nervous-dating-dating-for-...</td>\n",
       "    </tr>\n",
       "    <tr>\n",
       "      <th>2</th>\n",
       "      <td>Hi, do you feel an inner hatred that you wish ...</td>\n",
       "      <td>/projects/703843051/messenger-rock/</td>\n",
       "    </tr>\n",
       "    <tr>\n",
       "      <th>3</th>\n",
       "      <td>The goal of my project is to build a wind turb...</td>\n",
       "      <td>/projects/1407693875/wind-turbine-phone-charge...</td>\n",
       "    </tr>\n",
       "    <tr>\n",
       "      <th>4</th>\n",
       "      <td>The project will consist of building a prototy...</td>\n",
       "      <td>/projects/358359447/crash-surveillance-drone-csd/</td>\n",
       "    </tr>\n",
       "  </tbody>\n",
       "</table>\n",
       "</div>"
      ],
      "text/plain": [
       "                                  desc_total_renewal  \\\n",
       "0  Follow us on Facebook and Twitter and please s...   \n",
       "1  \"I get very nervous when I think someone is fa...   \n",
       "2  Hi, do you feel an inner hatred that you wish ...   \n",
       "3  The goal of my project is to build a wind turb...   \n",
       "4  The project will consist of building a prototy...   \n",
       "\n",
       "                                     project_address  \n",
       "0    /projects/1552697291/ufactory-3d-printing-shop/  \n",
       "1  /projects/941562770/nervous-dating-dating-for-...  \n",
       "2                /projects/703843051/messenger-rock/  \n",
       "3  /projects/1407693875/wind-turbine-phone-charge...  \n",
       "4  /projects/358359447/crash-surveillance-drone-csd/  "
      ]
     },
     "execution_count": 79,
     "metadata": {},
     "output_type": "execute_result"
    }
   ],
   "source": [
    "desc_renewal_df.head()"
   ]
  },
  {
   "cell_type": "code",
   "execution_count": 78,
   "metadata": {
    "collapsed": true
   },
   "outputs": [],
   "source": [
    "risk_desc_df = pd.read_pickle('risk_desc_df.pkl')"
   ]
  },
  {
   "cell_type": "code",
   "execution_count": 80,
   "metadata": {
    "collapsed": false
   },
   "outputs": [
    {
     "data": {
      "text/html": [
       "<div>\n",
       "<style>\n",
       "    .dataframe thead tr:only-child th {\n",
       "        text-align: right;\n",
       "    }\n",
       "\n",
       "    .dataframe thead th {\n",
       "        text-align: left;\n",
       "    }\n",
       "\n",
       "    .dataframe tbody tr th {\n",
       "        vertical-align: top;\n",
       "    }\n",
       "</style>\n",
       "<table border=\"1\" class=\"dataframe\">\n",
       "  <thead>\n",
       "    <tr style=\"text-align: right;\">\n",
       "      <th></th>\n",
       "      <th>project_id</th>\n",
       "      <th>project_address</th>\n",
       "      <th>text</th>\n",
       "    </tr>\n",
       "  </thead>\n",
       "  <tbody>\n",
       "    <tr>\n",
       "      <th>0</th>\n",
       "      <td>804380059</td>\n",
       "      <td>/projects/1552697291/ufactory-3d-printing-shop/</td>\n",
       "      <td>The biggest challenge of my project will be to...</td>\n",
       "    </tr>\n",
       "    <tr>\n",
       "      <th>1</th>\n",
       "      <td>1560420632</td>\n",
       "      <td>/projects/941562770/nervous-dating-dating-for-...</td>\n",
       "      <td>Fulfilment of your 'free membership codes' won...</td>\n",
       "    </tr>\n",
       "    <tr>\n",
       "      <th>2</th>\n",
       "      <td>278626358</td>\n",
       "      <td>/projects/703843051/messenger-rock/</td>\n",
       "      <td>The rock quality.</td>\n",
       "    </tr>\n",
       "    <tr>\n",
       "      <th>3</th>\n",
       "      <td>907761690</td>\n",
       "      <td>/projects/1407693875/wind-turbine-phone-charge...</td>\n",
       "      <td>The risks and challenges that may arise during...</td>\n",
       "    </tr>\n",
       "    <tr>\n",
       "      <th>4</th>\n",
       "      <td>1512099429</td>\n",
       "      <td>/projects/358359447/crash-surveillance-drone-csd/</td>\n",
       "      <td>The initial project is to demonstrate a proof ...</td>\n",
       "    </tr>\n",
       "  </tbody>\n",
       "</table>\n",
       "</div>"
      ],
      "text/plain": [
       "   project_id                                    project_address  \\\n",
       "0   804380059    /projects/1552697291/ufactory-3d-printing-shop/   \n",
       "1  1560420632  /projects/941562770/nervous-dating-dating-for-...   \n",
       "2   278626358                /projects/703843051/messenger-rock/   \n",
       "3   907761690  /projects/1407693875/wind-turbine-phone-charge...   \n",
       "4  1512099429  /projects/358359447/crash-surveillance-drone-csd/   \n",
       "\n",
       "                                                text  \n",
       "0  The biggest challenge of my project will be to...  \n",
       "1  Fulfilment of your 'free membership codes' won...  \n",
       "2                                  The rock quality.  \n",
       "3  The risks and challenges that may arise during...  \n",
       "4  The initial project is to demonstrate a proof ...  "
      ]
     },
     "execution_count": 80,
     "metadata": {},
     "output_type": "execute_result"
    }
   ],
   "source": [
    "risk_desc_df.head()"
   ]
  },
  {
   "cell_type": "code",
   "execution_count": 81,
   "metadata": {
    "collapsed": true
   },
   "outputs": [],
   "source": [
    "desc_total_df = risk_desc_df.merge(desc_renewal_df, on='project_address', how='left')"
   ]
  },
  {
   "cell_type": "code",
   "execution_count": 82,
   "metadata": {
    "collapsed": false
   },
   "outputs": [
    {
     "data": {
      "text/html": [
       "<div>\n",
       "<style>\n",
       "    .dataframe thead tr:only-child th {\n",
       "        text-align: right;\n",
       "    }\n",
       "\n",
       "    .dataframe thead th {\n",
       "        text-align: left;\n",
       "    }\n",
       "\n",
       "    .dataframe tbody tr th {\n",
       "        vertical-align: top;\n",
       "    }\n",
       "</style>\n",
       "<table border=\"1\" class=\"dataframe\">\n",
       "  <thead>\n",
       "    <tr style=\"text-align: right;\">\n",
       "      <th></th>\n",
       "      <th>project_id</th>\n",
       "      <th>project_address</th>\n",
       "      <th>text</th>\n",
       "      <th>desc_total_renewal</th>\n",
       "    </tr>\n",
       "  </thead>\n",
       "  <tbody>\n",
       "    <tr>\n",
       "      <th>0</th>\n",
       "      <td>804380059</td>\n",
       "      <td>/projects/1552697291/ufactory-3d-printing-shop/</td>\n",
       "      <td>The biggest challenge of my project will be to...</td>\n",
       "      <td>Follow us on Facebook and Twitter and please s...</td>\n",
       "    </tr>\n",
       "    <tr>\n",
       "      <th>1</th>\n",
       "      <td>1560420632</td>\n",
       "      <td>/projects/941562770/nervous-dating-dating-for-...</td>\n",
       "      <td>Fulfilment of your 'free membership codes' won...</td>\n",
       "      <td>\"I get very nervous when I think someone is fa...</td>\n",
       "    </tr>\n",
       "    <tr>\n",
       "      <th>2</th>\n",
       "      <td>278626358</td>\n",
       "      <td>/projects/703843051/messenger-rock/</td>\n",
       "      <td>The rock quality.</td>\n",
       "      <td>Hi, do you feel an inner hatred that you wish ...</td>\n",
       "    </tr>\n",
       "    <tr>\n",
       "      <th>3</th>\n",
       "      <td>907761690</td>\n",
       "      <td>/projects/1407693875/wind-turbine-phone-charge...</td>\n",
       "      <td>The risks and challenges that may arise during...</td>\n",
       "      <td>The goal of my project is to build a wind turb...</td>\n",
       "    </tr>\n",
       "    <tr>\n",
       "      <th>4</th>\n",
       "      <td>1512099429</td>\n",
       "      <td>/projects/358359447/crash-surveillance-drone-csd/</td>\n",
       "      <td>The initial project is to demonstrate a proof ...</td>\n",
       "      <td>The project will consist of building a prototy...</td>\n",
       "    </tr>\n",
       "  </tbody>\n",
       "</table>\n",
       "</div>"
      ],
      "text/plain": [
       "   project_id                                    project_address  \\\n",
       "0   804380059    /projects/1552697291/ufactory-3d-printing-shop/   \n",
       "1  1560420632  /projects/941562770/nervous-dating-dating-for-...   \n",
       "2   278626358                /projects/703843051/messenger-rock/   \n",
       "3   907761690  /projects/1407693875/wind-turbine-phone-charge...   \n",
       "4  1512099429  /projects/358359447/crash-surveillance-drone-csd/   \n",
       "\n",
       "                                                text  \\\n",
       "0  The biggest challenge of my project will be to...   \n",
       "1  Fulfilment of your 'free membership codes' won...   \n",
       "2                                  The rock quality.   \n",
       "3  The risks and challenges that may arise during...   \n",
       "4  The initial project is to demonstrate a proof ...   \n",
       "\n",
       "                                  desc_total_renewal  \n",
       "0  Follow us on Facebook and Twitter and please s...  \n",
       "1  \"I get very nervous when I think someone is fa...  \n",
       "2  Hi, do you feel an inner hatred that you wish ...  \n",
       "3  The goal of my project is to build a wind turb...  \n",
       "4  The project will consist of building a prototy...  "
      ]
     },
     "execution_count": 82,
     "metadata": {},
     "output_type": "execute_result"
    }
   ],
   "source": [
    "desc_total_df.head()"
   ]
  },
  {
   "cell_type": "code",
   "execution_count": 83,
   "metadata": {
    "collapsed": true
   },
   "outputs": [],
   "source": [
    "desc_total_df.columns = ['project_id', 'project_address', 'risk_desc', 'desc_total']"
   ]
  },
  {
   "cell_type": "code",
   "execution_count": 84,
   "metadata": {
    "collapsed": true
   },
   "outputs": [],
   "source": [
    "desc_total_df.to_pickle('desc_total_df_renewal.pkl')"
   ]
  },
  {
   "cell_type": "code",
   "execution_count": 87,
   "metadata": {
    "collapsed": false
   },
   "outputs": [],
   "source": [
    "desc_total_df.to_csv('desc_total_df_renewal.csv', encoding='utf-8')"
   ]
  },
  {
   "cell_type": "code",
   "execution_count": 40,
   "metadata": {
    "collapsed": false
   },
   "outputs": [],
   "source": [
    "import pandas as pd\n",
    "\n",
    "desc_total_df = pd.read_csv('desc_total_df_renewal.csv', encoding = 'utf-8', index_col=0)"
   ]
  },
  {
   "cell_type": "code",
   "execution_count": 41,
   "metadata": {
    "collapsed": false
   },
   "outputs": [
    {
     "data": {
      "text/html": [
       "<div>\n",
       "<style>\n",
       "    .dataframe thead tr:only-child th {\n",
       "        text-align: right;\n",
       "    }\n",
       "\n",
       "    .dataframe thead th {\n",
       "        text-align: left;\n",
       "    }\n",
       "\n",
       "    .dataframe tbody tr th {\n",
       "        vertical-align: top;\n",
       "    }\n",
       "</style>\n",
       "<table border=\"1\" class=\"dataframe\">\n",
       "  <thead>\n",
       "    <tr style=\"text-align: right;\">\n",
       "      <th></th>\n",
       "      <th>project_id</th>\n",
       "      <th>project_address</th>\n",
       "      <th>desc_total</th>\n",
       "      <th>risk_desc</th>\n",
       "    </tr>\n",
       "  </thead>\n",
       "  <tbody>\n",
       "    <tr>\n",
       "      <th>0</th>\n",
       "      <td>804380059</td>\n",
       "      <td>/projects/1552697291/ufactory-3d-printing-shop/</td>\n",
       "      <td>Follow us on Facebook and Twitter and please s...</td>\n",
       "      <td>The biggest challenge of my project will be to...</td>\n",
       "    </tr>\n",
       "    <tr>\n",
       "      <th>1</th>\n",
       "      <td>1560420632</td>\n",
       "      <td>/projects/941562770/nervous-dating-dating-for-...</td>\n",
       "      <td>\"I get very nervous when I think someone is fa...</td>\n",
       "      <td>Fulfilment of your 'free membership codes' won...</td>\n",
       "    </tr>\n",
       "    <tr>\n",
       "      <th>2</th>\n",
       "      <td>278626358</td>\n",
       "      <td>/projects/703843051/messenger-rock/</td>\n",
       "      <td>Hi, do you feel an inner hatred that you wish ...</td>\n",
       "      <td>The rock quality.</td>\n",
       "    </tr>\n",
       "    <tr>\n",
       "      <th>3</th>\n",
       "      <td>907761690</td>\n",
       "      <td>/projects/1407693875/wind-turbine-phone-charge...</td>\n",
       "      <td>The goal of my project is to build a wind turb...</td>\n",
       "      <td>The risks and challenges that may arise during...</td>\n",
       "    </tr>\n",
       "    <tr>\n",
       "      <th>4</th>\n",
       "      <td>1512099429</td>\n",
       "      <td>/projects/358359447/crash-surveillance-drone-csd/</td>\n",
       "      <td>The project will consist of building a prototy...</td>\n",
       "      <td>The initial project is to demonstrate a proof ...</td>\n",
       "    </tr>\n",
       "  </tbody>\n",
       "</table>\n",
       "</div>"
      ],
      "text/plain": [
       "   project_id                                    project_address  \\\n",
       "0   804380059    /projects/1552697291/ufactory-3d-printing-shop/   \n",
       "1  1560420632  /projects/941562770/nervous-dating-dating-for-...   \n",
       "2   278626358                /projects/703843051/messenger-rock/   \n",
       "3   907761690  /projects/1407693875/wind-turbine-phone-charge...   \n",
       "4  1512099429  /projects/358359447/crash-surveillance-drone-csd/   \n",
       "\n",
       "                                          desc_total  \\\n",
       "0  Follow us on Facebook and Twitter and please s...   \n",
       "1  \"I get very nervous when I think someone is fa...   \n",
       "2  Hi, do you feel an inner hatred that you wish ...   \n",
       "3  The goal of my project is to build a wind turb...   \n",
       "4  The project will consist of building a prototy...   \n",
       "\n",
       "                                           risk_desc  \n",
       "0  The biggest challenge of my project will be to...  \n",
       "1  Fulfilment of your 'free membership codes' won...  \n",
       "2                                  The rock quality.  \n",
       "3  The risks and challenges that may arise during...  \n",
       "4  The initial project is to demonstrate a proof ...  "
      ]
     },
     "execution_count": 41,
     "metadata": {},
     "output_type": "execute_result"
    }
   ],
   "source": [
    "desc_total_df.head()"
   ]
  },
  {
   "cell_type": "code",
   "execution_count": 39,
   "metadata": {
    "collapsed": false
   },
   "outputs": [],
   "source": [
    "desc_total_df.to_csv('desc_total_df_renewal.csv', encoding='utf-8')"
   ]
  }
 ],
 "metadata": {
  "kernelspec": {
   "display_name": "py35",
   "language": "python",
   "name": "py35"
  },
  "language_info": {
   "codemirror_mode": {
    "name": "ipython",
    "version": 2
   },
   "file_extension": ".py",
   "mimetype": "text/x-python",
   "name": "python",
   "nbconvert_exporter": "python",
   "pygments_lexer": "ipython2",
   "version": "2.7.12"
  }
 },
 "nbformat": 4,
 "nbformat_minor": 0
}
