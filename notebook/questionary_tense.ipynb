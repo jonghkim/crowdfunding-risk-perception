{
 "cells": [
  {
   "cell_type": "markdown",
   "metadata": {},
   "source": [
    "Story 기준으로\n",
    "\n",
    "- who, whom whose, what, which, why, where, when, how\n",
    "- do you, are you, have you\n",
    "\n",
    "Count"
   ]
  },
  {
   "cell_type": "code",
   "execution_count": 36,
   "metadata": {
    "collapsed": true
   },
   "outputs": [],
   "source": [
    "import pandas as pd"
   ]
  },
  {
   "cell_type": "code",
   "execution_count": 37,
   "metadata": {
    "collapsed": true
   },
   "outputs": [],
   "source": [
    "desc_df = pd.read_excel(\"../data/desc.xlsx\", encoding='utf-8')"
   ]
  },
  {
   "cell_type": "code",
   "execution_count": 38,
   "metadata": {
    "collapsed": false
   },
   "outputs": [
    {
     "data": {
      "text/html": [
       "<div>\n",
       "<style>\n",
       "    .dataframe thead tr:only-child th {\n",
       "        text-align: right;\n",
       "    }\n",
       "\n",
       "    .dataframe thead th {\n",
       "        text-align: left;\n",
       "    }\n",
       "\n",
       "    .dataframe tbody tr th {\n",
       "        vertical-align: top;\n",
       "    }\n",
       "</style>\n",
       "<table border=\"1\" class=\"dataframe\">\n",
       "  <thead>\n",
       "    <tr style=\"text-align: right;\">\n",
       "      <th></th>\n",
       "      <th>project_id</th>\n",
       "      <th>project_address</th>\n",
       "      <th>desc_total</th>\n",
       "      <th>video_desc</th>\n",
       "      <th>risk_desc</th>\n",
       "    </tr>\n",
       "  </thead>\n",
       "  <tbody>\n",
       "    <tr>\n",
       "      <th>0</th>\n",
       "      <td>804380059</td>\n",
       "      <td>/projects/1552697291/ufactory-3d-printing-shop/</td>\n",
       "      <td>Follow us on  Facebook  and  Twitter 횂혻and pl...</td>\n",
       "      <td>my name is Matt Elkins not here to tell you a...</td>\n",
       "      <td>Risks and challenges The biggest challenge of...</td>\n",
       "    </tr>\n",
       "    <tr>\n",
       "      <th>1</th>\n",
       "      <td>1560420632</td>\n",
       "      <td>/projects/941562770/nervous-dating-dating-for-...</td>\n",
       "      <td>\"I get very nervous when I think someone is f...</td>\n",
       "      <td>introverts the idea of going on the site can ...</td>\n",
       "      <td>Risks and challenges Fulfilment of your 'free...</td>\n",
       "    </tr>\n",
       "    <tr>\n",
       "      <th>2</th>\n",
       "      <td>278626358</td>\n",
       "      <td>/projects/703843051/messenger-rock/</td>\n",
       "      <td>Hi, do you feel an inner hatred that you wish...</td>\n",
       "      <td>NaN</td>\n",
       "      <td>Risks and challenges The rock quality. Learn ...</td>\n",
       "    </tr>\n",
       "    <tr>\n",
       "      <th>3</th>\n",
       "      <td>907761690</td>\n",
       "      <td>/projects/1407693875/wind-turbine-phone-charge...</td>\n",
       "      <td>The goal of my project is to build a wind tur...</td>\n",
       "      <td>NaN</td>\n",
       "      <td>Risks and challenges The risks and challenges...</td>\n",
       "    </tr>\n",
       "    <tr>\n",
       "      <th>4</th>\n",
       "      <td>1512099429</td>\n",
       "      <td>/projects/358359447/crash-surveillance-drone-csd/</td>\n",
       "      <td>The project will consist of building a protot...</td>\n",
       "      <td>NaN</td>\n",
       "      <td>Risks and challenges The initial project is t...</td>\n",
       "    </tr>\n",
       "  </tbody>\n",
       "</table>\n",
       "</div>"
      ],
      "text/plain": [
       "   project_id                                    project_address  \\\n",
       "0   804380059    /projects/1552697291/ufactory-3d-printing-shop/   \n",
       "1  1560420632  /projects/941562770/nervous-dating-dating-for-...   \n",
       "2   278626358                /projects/703843051/messenger-rock/   \n",
       "3   907761690  /projects/1407693875/wind-turbine-phone-charge...   \n",
       "4  1512099429  /projects/358359447/crash-surveillance-drone-csd/   \n",
       "\n",
       "                                          desc_total  \\\n",
       "0   Follow us on  Facebook  and  Twitter 횂혻and pl...   \n",
       "1   \"I get very nervous when I think someone is f...   \n",
       "2   Hi, do you feel an inner hatred that you wish...   \n",
       "3   The goal of my project is to build a wind tur...   \n",
       "4   The project will consist of building a protot...   \n",
       "\n",
       "                                          video_desc  \\\n",
       "0   my name is Matt Elkins not here to tell you a...   \n",
       "1   introverts the idea of going on the site can ...   \n",
       "2                                                NaN   \n",
       "3                                                NaN   \n",
       "4                                                NaN   \n",
       "\n",
       "                                           risk_desc  \n",
       "0   Risks and challenges The biggest challenge of...  \n",
       "1   Risks and challenges Fulfilment of your 'free...  \n",
       "2   Risks and challenges The rock quality. Learn ...  \n",
       "3   Risks and challenges The risks and challenges...  \n",
       "4   Risks and challenges The initial project is t...  "
      ]
     },
     "execution_count": 38,
     "metadata": {},
     "output_type": "execute_result"
    }
   ],
   "source": [
    "desc_df.head()"
   ]
  },
  {
   "cell_type": "code",
   "execution_count": 39,
   "metadata": {
    "collapsed": true
   },
   "outputs": [],
   "source": [
    "import math\n",
    "\n",
    "def preprocessor(text):\n",
    "    if (isinstance(text, float) == True) or (isinstance(text, int) == True):\n",
    "        text = None\n",
    "    else:\n",
    "        text = text.encode('ascii',errors='ignore')\n",
    "        \n",
    "    return text"
   ]
  },
  {
   "cell_type": "code",
   "execution_count": 40,
   "metadata": {
    "collapsed": true
   },
   "outputs": [],
   "source": [
    "def questionary_tense_counter(text):\n",
    "    \n",
    "    tense_language = ['who', 'whom', 'whose', 'what', 'which', 'why', 'where','when', 'how', 'do you', 'are you', 'have you']\n",
    "    \n",
    "    count = 0\n",
    "    \n",
    "    for tense_lag in tense_language:\n",
    "        count += text.split().count(tense_lag)\n",
    "        \n",
    "    return count"
   ]
  },
  {
   "cell_type": "code",
   "execution_count": 41,
   "metadata": {
    "collapsed": true
   },
   "outputs": [],
   "source": [
    "def get_word_counter(text):\n",
    "    wordCounter = {}\n",
    "    \n",
    "    if text == None:\n",
    "        return wordCounter\n",
    "\n",
    "    text = text.replace(',','').replace('\\'','').replace('.','').lower()\n",
    "    word_list = text.split()\n",
    "\n",
    "    for word in word_list:\n",
    "        if word not in wordCounter:\n",
    "            wordCounter[word] = 1\n",
    "        else:\n",
    "            wordCounter[word] = wordCounter[word] + 1\n",
    "            \n",
    "    questionary_tense = questionary_tense_counter(text)\n",
    "   \n",
    "    return wordCounter, questionary_tense"
   ]
  },
  {
   "cell_type": "code",
   "execution_count": 42,
   "metadata": {
    "collapsed": false
   },
   "outputs": [
    {
     "name": "stderr",
     "output_type": "stream",
     "text": [
      "100%|██████████| 7571/7571 [00:08<00:00, 925.19it/s] \n"
     ]
    }
   ],
   "source": [
    "import tqdm\n",
    "\n",
    "word_count_list = []\n",
    "\n",
    "for i, r in tqdm.tqdm(desc_df.iterrows(), total=desc_df.shape[0]):\n",
    "    \n",
    "    word_count_info = {}    \n",
    "    word_count_info['project_id'] = r['project_id']    \n",
    "    word_count_info['project_address'] = r['project_address']\n",
    "    \n",
    "    desc = r['desc_total']\n",
    "    desc = preprocessor(desc)        \n",
    "    \n",
    "    if desc == None:\n",
    "        word_count_info['desc_total'] = desc\n",
    "        word_count_info['desc_total_questionary_count'] = None\n",
    "        word_count_info['desc_total_questionary_ratio'] = None\n",
    "        word_count_info['desc_total_word_count'] = None\n",
    "    else:\n",
    "        word_count_dict, questionary_tense = get_word_counter(desc)\n",
    "        word_count_info['desc_total'] = desc   \n",
    "        word_count_info['desc_total_questionary_count'] = questionary_tense        \n",
    "        word_count_info['desc_total_questionary_ratio'] = questionary_tense/float(sum(word_count_dict.values()))        \n",
    "        word_count_info['desc_total_word_count'] = sum(word_count_dict.values())\n",
    "    \n",
    "    video_desc = r['video_desc']\n",
    "    video_desc = preprocessor(video_desc)     \n",
    "    \n",
    "    if video_desc == None:\n",
    "        word_count_info['video_desc'] = video_desc        \n",
    "        word_count_info['video_desc_word_count'] = None\n",
    "        word_count_info['video_desc_questionary_count'] = None\n",
    "        word_count_info['video_desc_questionary_ratio'] = None\n",
    "        \n",
    "    else:\n",
    "        word_count_dict, questionary_tense = get_word_counter(video_desc)\n",
    "        word_count_info['video_desc'] = video_desc        \n",
    "        word_count_info['video_desc_word_count'] = sum(word_count_dict.values())\n",
    "        word_count_info['video_desc_questionary_count'] = questionary_tense\n",
    "        word_count_info['video_desc_questionary_ratio'] = questionary_tense/float(sum(word_count_dict.values()))\n",
    "\n",
    "    risk_desc = r['risk_desc']    \n",
    "    risk_desc = preprocessor(risk_desc) \n",
    "    word_count_info['risk_desc'] = risk_desc\n",
    "        \n",
    "    word_count_list.append(word_count_info)"
   ]
  },
  {
   "cell_type": "code",
   "execution_count": 43,
   "metadata": {
    "collapsed": true
   },
   "outputs": [],
   "source": [
    "word_count_df = pd.DataFrame(word_count_list)"
   ]
  },
  {
   "cell_type": "code",
   "execution_count": 44,
   "metadata": {
    "collapsed": false
   },
   "outputs": [
    {
     "data": {
      "text/html": [
       "<div>\n",
       "<style>\n",
       "    .dataframe thead tr:only-child th {\n",
       "        text-align: right;\n",
       "    }\n",
       "\n",
       "    .dataframe thead th {\n",
       "        text-align: left;\n",
       "    }\n",
       "\n",
       "    .dataframe tbody tr th {\n",
       "        vertical-align: top;\n",
       "    }\n",
       "</style>\n",
       "<table border=\"1\" class=\"dataframe\">\n",
       "  <thead>\n",
       "    <tr style=\"text-align: right;\">\n",
       "      <th></th>\n",
       "      <th>desc_total</th>\n",
       "      <th>desc_total_questionary_count</th>\n",
       "      <th>desc_total_questionary_ratio</th>\n",
       "      <th>desc_total_word_count</th>\n",
       "      <th>project_address</th>\n",
       "      <th>project_id</th>\n",
       "      <th>risk_desc</th>\n",
       "      <th>video_desc</th>\n",
       "      <th>video_desc_questionary_count</th>\n",
       "      <th>video_desc_questionary_ratio</th>\n",
       "      <th>video_desc_word_count</th>\n",
       "    </tr>\n",
       "  </thead>\n",
       "  <tbody>\n",
       "    <tr>\n",
       "      <th>0</th>\n",
       "      <td>Follow us on  Facebook  and  Twitter and plea...</td>\n",
       "      <td>12.0</td>\n",
       "      <td>0.022727</td>\n",
       "      <td>528.0</td>\n",
       "      <td>/projects/1552697291/ufactory-3d-printing-shop/</td>\n",
       "      <td>804380059</td>\n",
       "      <td>Risks and challenges The biggest challenge of...</td>\n",
       "      <td>my name is Matt Elkins not here to tell you a...</td>\n",
       "      <td>9.0</td>\n",
       "      <td>0.020362</td>\n",
       "      <td>442.0</td>\n",
       "    </tr>\n",
       "    <tr>\n",
       "      <th>1</th>\n",
       "      <td>\"I get very nervous when I think someone is f...</td>\n",
       "      <td>13.0</td>\n",
       "      <td>0.017711</td>\n",
       "      <td>734.0</td>\n",
       "      <td>/projects/941562770/nervous-dating-dating-for-...</td>\n",
       "      <td>1560420632</td>\n",
       "      <td>Risks and challenges Fulfilment of your 'free...</td>\n",
       "      <td>introverts the idea of going on the site can ...</td>\n",
       "      <td>2.0</td>\n",
       "      <td>0.017241</td>\n",
       "      <td>116.0</td>\n",
       "    </tr>\n",
       "    <tr>\n",
       "      <th>2</th>\n",
       "      <td>Hi, do you feel an inner hatred that you wish...</td>\n",
       "      <td>1.0</td>\n",
       "      <td>0.015385</td>\n",
       "      <td>65.0</td>\n",
       "      <td>/projects/703843051/messenger-rock/</td>\n",
       "      <td>278626358</td>\n",
       "      <td>Risks and challenges The rock quality. Learn ...</td>\n",
       "      <td>None</td>\n",
       "      <td>NaN</td>\n",
       "      <td>NaN</td>\n",
       "      <td>NaN</td>\n",
       "    </tr>\n",
       "    <tr>\n",
       "      <th>3</th>\n",
       "      <td>The goal of my project is to build a wind tur...</td>\n",
       "      <td>2.0</td>\n",
       "      <td>0.007782</td>\n",
       "      <td>257.0</td>\n",
       "      <td>/projects/1407693875/wind-turbine-phone-charge...</td>\n",
       "      <td>907761690</td>\n",
       "      <td>Risks and challenges The risks and challenges...</td>\n",
       "      <td>None</td>\n",
       "      <td>NaN</td>\n",
       "      <td>NaN</td>\n",
       "      <td>NaN</td>\n",
       "    </tr>\n",
       "    <tr>\n",
       "      <th>4</th>\n",
       "      <td>The project will consist of building a protot...</td>\n",
       "      <td>0.0</td>\n",
       "      <td>0.000000</td>\n",
       "      <td>105.0</td>\n",
       "      <td>/projects/358359447/crash-surveillance-drone-csd/</td>\n",
       "      <td>1512099429</td>\n",
       "      <td>Risks and challenges The initial project is t...</td>\n",
       "      <td>None</td>\n",
       "      <td>NaN</td>\n",
       "      <td>NaN</td>\n",
       "      <td>NaN</td>\n",
       "    </tr>\n",
       "  </tbody>\n",
       "</table>\n",
       "</div>"
      ],
      "text/plain": [
       "                                          desc_total  \\\n",
       "0   Follow us on  Facebook  and  Twitter and plea...   \n",
       "1   \"I get very nervous when I think someone is f...   \n",
       "2   Hi, do you feel an inner hatred that you wish...   \n",
       "3   The goal of my project is to build a wind tur...   \n",
       "4   The project will consist of building a protot...   \n",
       "\n",
       "   desc_total_questionary_count  desc_total_questionary_ratio  \\\n",
       "0                          12.0                      0.022727   \n",
       "1                          13.0                      0.017711   \n",
       "2                           1.0                      0.015385   \n",
       "3                           2.0                      0.007782   \n",
       "4                           0.0                      0.000000   \n",
       "\n",
       "   desc_total_word_count                                    project_address  \\\n",
       "0                  528.0    /projects/1552697291/ufactory-3d-printing-shop/   \n",
       "1                  734.0  /projects/941562770/nervous-dating-dating-for-...   \n",
       "2                   65.0                /projects/703843051/messenger-rock/   \n",
       "3                  257.0  /projects/1407693875/wind-turbine-phone-charge...   \n",
       "4                  105.0  /projects/358359447/crash-surveillance-drone-csd/   \n",
       "\n",
       "   project_id                                          risk_desc  \\\n",
       "0   804380059   Risks and challenges The biggest challenge of...   \n",
       "1  1560420632   Risks and challenges Fulfilment of your 'free...   \n",
       "2   278626358   Risks and challenges The rock quality. Learn ...   \n",
       "3   907761690   Risks and challenges The risks and challenges...   \n",
       "4  1512099429   Risks and challenges The initial project is t...   \n",
       "\n",
       "                                          video_desc  \\\n",
       "0   my name is Matt Elkins not here to tell you a...   \n",
       "1   introverts the idea of going on the site can ...   \n",
       "2                                               None   \n",
       "3                                               None   \n",
       "4                                               None   \n",
       "\n",
       "   video_desc_questionary_count  video_desc_questionary_ratio  \\\n",
       "0                           9.0                      0.020362   \n",
       "1                           2.0                      0.017241   \n",
       "2                           NaN                           NaN   \n",
       "3                           NaN                           NaN   \n",
       "4                           NaN                           NaN   \n",
       "\n",
       "   video_desc_word_count  \n",
       "0                  442.0  \n",
       "1                  116.0  \n",
       "2                    NaN  \n",
       "3                    NaN  \n",
       "4                    NaN  "
      ]
     },
     "execution_count": 44,
     "metadata": {},
     "output_type": "execute_result"
    }
   ],
   "source": [
    "word_count_df.head()"
   ]
  },
  {
   "cell_type": "code",
   "execution_count": 45,
   "metadata": {
    "collapsed": false
   },
   "outputs": [
    {
     "data": {
      "text/plain": [
       "Index([u'desc_total', u'desc_total_questionary_count',\n",
       "       u'desc_total_questionary_ratio', u'desc_total_word_count',\n",
       "       u'project_address', u'project_id', u'risk_desc', u'video_desc',\n",
       "       u'video_desc_questionary_count', u'video_desc_questionary_ratio',\n",
       "       u'video_desc_word_count'],\n",
       "      dtype='object')"
      ]
     },
     "execution_count": 45,
     "metadata": {},
     "output_type": "execute_result"
    }
   ],
   "source": [
    "word_count_df.columns"
   ]
  },
  {
   "cell_type": "code",
   "execution_count": 46,
   "metadata": {
    "collapsed": true
   },
   "outputs": [],
   "source": [
    "word_count_df = word_count_df[['project_id', 'project_address', 'desc_total', 'video_desc', 'risk_desc', \n",
    "                               'desc_total_questionary_count','desc_total_questionary_ratio','desc_total_word_count',\n",
    "                               'video_desc_questionary_count','video_desc_questionary_ratio', 'video_desc_word_count']]"
   ]
  },
  {
   "cell_type": "code",
   "execution_count": 47,
   "metadata": {
    "collapsed": false
   },
   "outputs": [
    {
     "data": {
      "text/html": [
       "<div>\n",
       "<style>\n",
       "    .dataframe thead tr:only-child th {\n",
       "        text-align: right;\n",
       "    }\n",
       "\n",
       "    .dataframe thead th {\n",
       "        text-align: left;\n",
       "    }\n",
       "\n",
       "    .dataframe tbody tr th {\n",
       "        vertical-align: top;\n",
       "    }\n",
       "</style>\n",
       "<table border=\"1\" class=\"dataframe\">\n",
       "  <thead>\n",
       "    <tr style=\"text-align: right;\">\n",
       "      <th></th>\n",
       "      <th>project_id</th>\n",
       "      <th>project_address</th>\n",
       "      <th>desc_total</th>\n",
       "      <th>video_desc</th>\n",
       "      <th>risk_desc</th>\n",
       "      <th>desc_total_questionary_count</th>\n",
       "      <th>desc_total_questionary_ratio</th>\n",
       "      <th>desc_total_word_count</th>\n",
       "      <th>video_desc_questionary_count</th>\n",
       "      <th>video_desc_questionary_ratio</th>\n",
       "      <th>video_desc_word_count</th>\n",
       "    </tr>\n",
       "  </thead>\n",
       "  <tbody>\n",
       "    <tr>\n",
       "      <th>0</th>\n",
       "      <td>804380059</td>\n",
       "      <td>/projects/1552697291/ufactory-3d-printing-shop/</td>\n",
       "      <td>Follow us on  Facebook  and  Twitter and plea...</td>\n",
       "      <td>my name is Matt Elkins not here to tell you a...</td>\n",
       "      <td>Risks and challenges The biggest challenge of...</td>\n",
       "      <td>12.0</td>\n",
       "      <td>0.022727</td>\n",
       "      <td>528.0</td>\n",
       "      <td>9.0</td>\n",
       "      <td>0.020362</td>\n",
       "      <td>442.0</td>\n",
       "    </tr>\n",
       "    <tr>\n",
       "      <th>1</th>\n",
       "      <td>1560420632</td>\n",
       "      <td>/projects/941562770/nervous-dating-dating-for-...</td>\n",
       "      <td>\"I get very nervous when I think someone is f...</td>\n",
       "      <td>introverts the idea of going on the site can ...</td>\n",
       "      <td>Risks and challenges Fulfilment of your 'free...</td>\n",
       "      <td>13.0</td>\n",
       "      <td>0.017711</td>\n",
       "      <td>734.0</td>\n",
       "      <td>2.0</td>\n",
       "      <td>0.017241</td>\n",
       "      <td>116.0</td>\n",
       "    </tr>\n",
       "    <tr>\n",
       "      <th>2</th>\n",
       "      <td>278626358</td>\n",
       "      <td>/projects/703843051/messenger-rock/</td>\n",
       "      <td>Hi, do you feel an inner hatred that you wish...</td>\n",
       "      <td>None</td>\n",
       "      <td>Risks and challenges The rock quality. Learn ...</td>\n",
       "      <td>1.0</td>\n",
       "      <td>0.015385</td>\n",
       "      <td>65.0</td>\n",
       "      <td>NaN</td>\n",
       "      <td>NaN</td>\n",
       "      <td>NaN</td>\n",
       "    </tr>\n",
       "    <tr>\n",
       "      <th>3</th>\n",
       "      <td>907761690</td>\n",
       "      <td>/projects/1407693875/wind-turbine-phone-charge...</td>\n",
       "      <td>The goal of my project is to build a wind tur...</td>\n",
       "      <td>None</td>\n",
       "      <td>Risks and challenges The risks and challenges...</td>\n",
       "      <td>2.0</td>\n",
       "      <td>0.007782</td>\n",
       "      <td>257.0</td>\n",
       "      <td>NaN</td>\n",
       "      <td>NaN</td>\n",
       "      <td>NaN</td>\n",
       "    </tr>\n",
       "    <tr>\n",
       "      <th>4</th>\n",
       "      <td>1512099429</td>\n",
       "      <td>/projects/358359447/crash-surveillance-drone-csd/</td>\n",
       "      <td>The project will consist of building a protot...</td>\n",
       "      <td>None</td>\n",
       "      <td>Risks and challenges The initial project is t...</td>\n",
       "      <td>0.0</td>\n",
       "      <td>0.000000</td>\n",
       "      <td>105.0</td>\n",
       "      <td>NaN</td>\n",
       "      <td>NaN</td>\n",
       "      <td>NaN</td>\n",
       "    </tr>\n",
       "  </tbody>\n",
       "</table>\n",
       "</div>"
      ],
      "text/plain": [
       "   project_id                                    project_address  \\\n",
       "0   804380059    /projects/1552697291/ufactory-3d-printing-shop/   \n",
       "1  1560420632  /projects/941562770/nervous-dating-dating-for-...   \n",
       "2   278626358                /projects/703843051/messenger-rock/   \n",
       "3   907761690  /projects/1407693875/wind-turbine-phone-charge...   \n",
       "4  1512099429  /projects/358359447/crash-surveillance-drone-csd/   \n",
       "\n",
       "                                          desc_total  \\\n",
       "0   Follow us on  Facebook  and  Twitter and plea...   \n",
       "1   \"I get very nervous when I think someone is f...   \n",
       "2   Hi, do you feel an inner hatred that you wish...   \n",
       "3   The goal of my project is to build a wind tur...   \n",
       "4   The project will consist of building a protot...   \n",
       "\n",
       "                                          video_desc  \\\n",
       "0   my name is Matt Elkins not here to tell you a...   \n",
       "1   introverts the idea of going on the site can ...   \n",
       "2                                               None   \n",
       "3                                               None   \n",
       "4                                               None   \n",
       "\n",
       "                                           risk_desc  \\\n",
       "0   Risks and challenges The biggest challenge of...   \n",
       "1   Risks and challenges Fulfilment of your 'free...   \n",
       "2   Risks and challenges The rock quality. Learn ...   \n",
       "3   Risks and challenges The risks and challenges...   \n",
       "4   Risks and challenges The initial project is t...   \n",
       "\n",
       "   desc_total_questionary_count  desc_total_questionary_ratio  \\\n",
       "0                          12.0                      0.022727   \n",
       "1                          13.0                      0.017711   \n",
       "2                           1.0                      0.015385   \n",
       "3                           2.0                      0.007782   \n",
       "4                           0.0                      0.000000   \n",
       "\n",
       "   desc_total_word_count  video_desc_questionary_count  \\\n",
       "0                  528.0                           9.0   \n",
       "1                  734.0                           2.0   \n",
       "2                   65.0                           NaN   \n",
       "3                  257.0                           NaN   \n",
       "4                  105.0                           NaN   \n",
       "\n",
       "   video_desc_questionary_ratio  video_desc_word_count  \n",
       "0                      0.020362                  442.0  \n",
       "1                      0.017241                  116.0  \n",
       "2                           NaN                    NaN  \n",
       "3                           NaN                    NaN  \n",
       "4                           NaN                    NaN  "
      ]
     },
     "execution_count": 47,
     "metadata": {},
     "output_type": "execute_result"
    }
   ],
   "source": [
    "word_count_df.head()"
   ]
  },
  {
   "cell_type": "code",
   "execution_count": 48,
   "metadata": {
    "collapsed": true
   },
   "outputs": [],
   "source": [
    "word_count_df.to_excel('questionary_tense_count.xlsx')"
   ]
  },
  {
   "cell_type": "markdown",
   "metadata": {},
   "source": [
    "# Try2"
   ]
  },
  {
   "cell_type": "code",
   "execution_count": 50,
   "metadata": {
    "collapsed": true
   },
   "outputs": [],
   "source": [
    "subtitle_df = pd.read_excel(\"Speech Script.xlsx\", encoding='utf-8')"
   ]
  },
  {
   "cell_type": "code",
   "execution_count": 51,
   "metadata": {
    "collapsed": false
   },
   "outputs": [
    {
     "data": {
      "text/html": [
       "<div>\n",
       "<style>\n",
       "    .dataframe thead tr:only-child th {\n",
       "        text-align: right;\n",
       "    }\n",
       "\n",
       "    .dataframe thead th {\n",
       "        text-align: left;\n",
       "    }\n",
       "\n",
       "    .dataframe tbody tr th {\n",
       "        vertical-align: top;\n",
       "    }\n",
       "</style>\n",
       "<table border=\"1\" class=\"dataframe\">\n",
       "  <thead>\n",
       "    <tr style=\"text-align: right;\">\n",
       "      <th></th>\n",
       "      <th>project_id</th>\n",
       "      <th>combined_script</th>\n",
       "    </tr>\n",
       "  </thead>\n",
       "  <tbody>\n",
       "    <tr>\n",
       "      <th>0</th>\n",
       "      <td>804380059</td>\n",
       "      <td>hello Kickstarter my name is Matt Elkins and I...</td>\n",
       "    </tr>\n",
       "    <tr>\n",
       "      <th>1</th>\n",
       "      <td>1940344600</td>\n",
       "      <td>sentry probe combines separate technologies in...</td>\n",
       "    </tr>\n",
       "    <tr>\n",
       "      <th>2</th>\n",
       "      <td>128158233</td>\n",
       "      <td>if you live in a big city chances are you've t...</td>\n",
       "    </tr>\n",
       "    <tr>\n",
       "      <th>3</th>\n",
       "      <td>1937578990</td>\n",
       "      <td>yeah you're not very good you have to make a c...</td>\n",
       "    </tr>\n",
       "    <tr>\n",
       "      <th>4</th>\n",
       "      <td>98129167</td>\n",
       "      <td>hey guys my name is Dustin I'm Allison and I s...</td>\n",
       "    </tr>\n",
       "  </tbody>\n",
       "</table>\n",
       "</div>"
      ],
      "text/plain": [
       "   project_id                                    combined_script\n",
       "0   804380059  hello Kickstarter my name is Matt Elkins and I...\n",
       "1  1940344600  sentry probe combines separate technologies in...\n",
       "2   128158233  if you live in a big city chances are you've t...\n",
       "3  1937578990  yeah you're not very good you have to make a c...\n",
       "4    98129167  hey guys my name is Dustin I'm Allison and I s..."
      ]
     },
     "execution_count": 51,
     "metadata": {},
     "output_type": "execute_result"
    }
   ],
   "source": [
    "subtitle_df.head()"
   ]
  },
  {
   "cell_type": "code",
   "execution_count": 52,
   "metadata": {
    "collapsed": false
   },
   "outputs": [
    {
     "name": "stderr",
     "output_type": "stream",
     "text": [
      "100%|██████████| 2432/2432 [00:01<00:00, 1541.12it/s]\n"
     ]
    }
   ],
   "source": [
    "import tqdm\n",
    "\n",
    "word_count_list = []\n",
    "\n",
    "for i, r in tqdm.tqdm(subtitle_df.iterrows(), total=subtitle_df.shape[0]):\n",
    "\n",
    "    word_count_info = {}    \n",
    "    word_count_info['project_id'] = r['project_id']    \n",
    "    \n",
    "    desc = r['combined_script']\n",
    "    desc = preprocessor(desc)        \n",
    "    \n",
    "    if desc == None:\n",
    "        word_count_info['subtitle_stripped'] = desc\n",
    "        word_count_info['subtitle_word_count'] = None\n",
    "        word_count_info['subtitle_questionary_count'] = None\n",
    "        word_count_info['subtitle_questionary_ratio'] = None        \n",
    "    else:\n",
    "        word_count_dict, questionary_tense = get_word_counter(desc)        \n",
    "        word_count_info['subtitle_stripped'] = desc        \n",
    "        word_count_info['subtitle_word_count'] = sum(word_count_dict.values())\n",
    "        word_count_info['subtitle_questionary_count'] = questionary_tense\n",
    "        word_count_info['subtitle_questionary_ratio'] = questionary_tense/float(sum(word_count_dict.values()))        \n",
    "    \n",
    "    word_count_list.append(word_count_info)\n",
    "    "
   ]
  },
  {
   "cell_type": "code",
   "execution_count": 53,
   "metadata": {
    "collapsed": true
   },
   "outputs": [],
   "source": [
    "word_count_df = pd.DataFrame(word_count_list)"
   ]
  },
  {
   "cell_type": "code",
   "execution_count": 54,
   "metadata": {
    "collapsed": true
   },
   "outputs": [],
   "source": [
    "word_count_df = word_count_df[['project_id','subtitle_stripped','subtitle_questionary_count','subtitle_questionary_ratio','subtitle_word_count']]"
   ]
  },
  {
   "cell_type": "code",
   "execution_count": 55,
   "metadata": {
    "collapsed": false
   },
   "outputs": [
    {
     "data": {
      "text/html": [
       "<div>\n",
       "<style>\n",
       "    .dataframe thead tr:only-child th {\n",
       "        text-align: right;\n",
       "    }\n",
       "\n",
       "    .dataframe thead th {\n",
       "        text-align: left;\n",
       "    }\n",
       "\n",
       "    .dataframe tbody tr th {\n",
       "        vertical-align: top;\n",
       "    }\n",
       "</style>\n",
       "<table border=\"1\" class=\"dataframe\">\n",
       "  <thead>\n",
       "    <tr style=\"text-align: right;\">\n",
       "      <th></th>\n",
       "      <th>project_id</th>\n",
       "      <th>subtitle_stripped</th>\n",
       "      <th>subtitle_questionary_count</th>\n",
       "      <th>subtitle_questionary_ratio</th>\n",
       "      <th>subtitle_word_count</th>\n",
       "    </tr>\n",
       "  </thead>\n",
       "  <tbody>\n",
       "    <tr>\n",
       "      <th>0</th>\n",
       "      <td>804380059</td>\n",
       "      <td>hello Kickstarter my name is Matt Elkins and I...</td>\n",
       "      <td>11</td>\n",
       "      <td>0.022634</td>\n",
       "      <td>486</td>\n",
       "    </tr>\n",
       "    <tr>\n",
       "      <th>1</th>\n",
       "      <td>1940344600</td>\n",
       "      <td>sentry probe combines separate technologies in...</td>\n",
       "      <td>2</td>\n",
       "      <td>0.011561</td>\n",
       "      <td>173</td>\n",
       "    </tr>\n",
       "    <tr>\n",
       "      <th>2</th>\n",
       "      <td>128158233</td>\n",
       "      <td>if you live in a big city chances are you've t...</td>\n",
       "      <td>7</td>\n",
       "      <td>0.020408</td>\n",
       "      <td>343</td>\n",
       "    </tr>\n",
       "    <tr>\n",
       "      <th>3</th>\n",
       "      <td>1937578990</td>\n",
       "      <td>yeah you're not very good you have to make a c...</td>\n",
       "      <td>0</td>\n",
       "      <td>0.000000</td>\n",
       "      <td>47</td>\n",
       "    </tr>\n",
       "    <tr>\n",
       "      <th>4</th>\n",
       "      <td>98129167</td>\n",
       "      <td>hey guys my name is Dustin I'm Allison and I s...</td>\n",
       "      <td>11</td>\n",
       "      <td>0.016467</td>\n",
       "      <td>668</td>\n",
       "    </tr>\n",
       "  </tbody>\n",
       "</table>\n",
       "</div>"
      ],
      "text/plain": [
       "   project_id                                  subtitle_stripped  \\\n",
       "0   804380059  hello Kickstarter my name is Matt Elkins and I...   \n",
       "1  1940344600  sentry probe combines separate technologies in...   \n",
       "2   128158233  if you live in a big city chances are you've t...   \n",
       "3  1937578990  yeah you're not very good you have to make a c...   \n",
       "4    98129167  hey guys my name is Dustin I'm Allison and I s...   \n",
       "\n",
       "   subtitle_questionary_count  subtitle_questionary_ratio  subtitle_word_count  \n",
       "0                          11                    0.022634                  486  \n",
       "1                           2                    0.011561                  173  \n",
       "2                           7                    0.020408                  343  \n",
       "3                           0                    0.000000                   47  \n",
       "4                          11                    0.016467                  668  "
      ]
     },
     "execution_count": 55,
     "metadata": {},
     "output_type": "execute_result"
    }
   ],
   "source": [
    "word_count_df.head()"
   ]
  },
  {
   "cell_type": "code",
   "execution_count": 56,
   "metadata": {
    "collapsed": true
   },
   "outputs": [],
   "source": [
    "word_count_df.to_excel('speech_script_questionary_tense_count.xlsx')"
   ]
  }
 ],
 "metadata": {
  "kernelspec": {
   "display_name": "py35",
   "language": "python",
   "name": "py35"
  },
  "language_info": {
   "codemirror_mode": {
    "name": "ipython",
    "version": 2
   },
   "file_extension": ".py",
   "mimetype": "text/x-python",
   "name": "python",
   "nbconvert_exporter": "python",
   "pygments_lexer": "ipython2",
   "version": "2.7.12"
  }
 },
 "nbformat": 4,
 "nbformat_minor": 0
}
