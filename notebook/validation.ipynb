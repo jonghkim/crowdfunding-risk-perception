{
 "cells": [
  {
   "cell_type": "code",
   "execution_count": 7,
   "metadata": {
    "collapsed": false
   },
   "outputs": [],
   "source": [
    "import pandas as pd\n",
    "\n",
    "desc_total_df_renewal = pd.read_csv('../data/normalized_prediction_df.csv', encoding='utf-8', index_col=0)"
   ]
  },
  {
   "cell_type": "code",
   "execution_count": 12,
   "metadata": {
    "collapsed": true
   },
   "outputs": [],
   "source": [
    "desc_total = pd.read_excel('../data/desc.xlsx')"
   ]
  },
  {
   "cell_type": "code",
   "execution_count": 13,
   "metadata": {
    "collapsed": false
   },
   "outputs": [
    {
     "data": {
      "text/html": [
       "<div>\n",
       "<style>\n",
       "    .dataframe thead tr:only-child th {\n",
       "        text-align: right;\n",
       "    }\n",
       "\n",
       "    .dataframe thead th {\n",
       "        text-align: left;\n",
       "    }\n",
       "\n",
       "    .dataframe tbody tr th {\n",
       "        vertical-align: top;\n",
       "    }\n",
       "</style>\n",
       "<table border=\"1\" class=\"dataframe\">\n",
       "  <thead>\n",
       "    <tr style=\"text-align: right;\">\n",
       "      <th></th>\n",
       "      <th>project_id</th>\n",
       "      <th>project_address</th>\n",
       "      <th>desc_total</th>\n",
       "      <th>risk_desc</th>\n",
       "      <th>perceived_risk</th>\n",
       "    </tr>\n",
       "  </thead>\n",
       "  <tbody>\n",
       "    <tr>\n",
       "      <th>0</th>\n",
       "      <td>804380059</td>\n",
       "      <td>/projects/1552697291/ufactory-3d-printing-shop/</td>\n",
       "      <td>follow facebook twitter please share page emai...</td>\n",
       "      <td>big challenge project educate many people poss...</td>\n",
       "      <td>NaN</td>\n",
       "    </tr>\n",
       "    <tr>\n",
       "      <th>1</th>\n",
       "      <td>1560420632</td>\n",
       "      <td>/projects/941562770/nervous-dating-dating-for-...</td>\n",
       "      <td>get nervous think someone fall love time roman...</td>\n",
       "      <td>fulfilment free membership code happen run fre...</td>\n",
       "      <td>NaN</td>\n",
       "    </tr>\n",
       "    <tr>\n",
       "      <th>2</th>\n",
       "      <td>278626358</td>\n",
       "      <td>/projects/703843051/messenger-rock/</td>\n",
       "      <td>hi feel inner hatred wish let well messenger r...</td>\n",
       "      <td>rock quality</td>\n",
       "      <td>NaN</td>\n",
       "    </tr>\n",
       "    <tr>\n",
       "      <th>3</th>\n",
       "      <td>907761690</td>\n",
       "      <td>/projects/1407693875/wind-turbine-phone-charge...</td>\n",
       "      <td>goal project build wind turbine attach battery...</td>\n",
       "      <td>risk challenge arise overall build hope consis...</td>\n",
       "      <td>NaN</td>\n",
       "    </tr>\n",
       "    <tr>\n",
       "      <th>4</th>\n",
       "      <td>1512099429</td>\n",
       "      <td>/projects/358359447/crash-surveillance-drone-csd/</td>\n",
       "      <td>project consist building prototype make retrof...</td>\n",
       "      <td>initial project demonstrate proof concept use ...</td>\n",
       "      <td>NaN</td>\n",
       "    </tr>\n",
       "  </tbody>\n",
       "</table>\n",
       "</div>"
      ],
      "text/plain": [
       "   project_id                                    project_address  \\\n",
       "0   804380059    /projects/1552697291/ufactory-3d-printing-shop/   \n",
       "1  1560420632  /projects/941562770/nervous-dating-dating-for-...   \n",
       "2   278626358                /projects/703843051/messenger-rock/   \n",
       "3   907761690  /projects/1407693875/wind-turbine-phone-charge...   \n",
       "4  1512099429  /projects/358359447/crash-surveillance-drone-csd/   \n",
       "\n",
       "                                          desc_total  \\\n",
       "0  follow facebook twitter please share page emai...   \n",
       "1  get nervous think someone fall love time roman...   \n",
       "2  hi feel inner hatred wish let well messenger r...   \n",
       "3  goal project build wind turbine attach battery...   \n",
       "4  project consist building prototype make retrof...   \n",
       "\n",
       "                                           risk_desc  perceived_risk  \n",
       "0  big challenge project educate many people poss...             NaN  \n",
       "1  fulfilment free membership code happen run fre...             NaN  \n",
       "2                                       rock quality             NaN  \n",
       "3  risk challenge arise overall build hope consis...             NaN  \n",
       "4  initial project demonstrate proof concept use ...             NaN  "
      ]
     },
     "execution_count": 13,
     "metadata": {},
     "output_type": "execute_result"
    }
   ],
   "source": [
    "desc_total_df_renewal.head()"
   ]
  },
  {
   "cell_type": "code",
   "execution_count": 14,
   "metadata": {
    "collapsed": true
   },
   "outputs": [],
   "source": [
    "desc_total = desc_total[['project_id','project_address']].merge(desc_total_df_renewal[['project_address','desc_total','risk_desc']], on='project_address', how='left')"
   ]
  },
  {
   "cell_type": "code",
   "execution_count": 15,
   "metadata": {
    "collapsed": false
   },
   "outputs": [
    {
     "data": {
      "text/html": [
       "<div>\n",
       "<style>\n",
       "    .dataframe thead tr:only-child th {\n",
       "        text-align: right;\n",
       "    }\n",
       "\n",
       "    .dataframe thead th {\n",
       "        text-align: left;\n",
       "    }\n",
       "\n",
       "    .dataframe tbody tr th {\n",
       "        vertical-align: top;\n",
       "    }\n",
       "</style>\n",
       "<table border=\"1\" class=\"dataframe\">\n",
       "  <thead>\n",
       "    <tr style=\"text-align: right;\">\n",
       "      <th></th>\n",
       "      <th>project_id</th>\n",
       "      <th>project_address</th>\n",
       "      <th>desc_total</th>\n",
       "      <th>risk_desc</th>\n",
       "    </tr>\n",
       "  </thead>\n",
       "  <tbody>\n",
       "    <tr>\n",
       "      <th>0</th>\n",
       "      <td>804380059</td>\n",
       "      <td>/projects/1552697291/ufactory-3d-printing-shop/</td>\n",
       "      <td>follow facebook twitter please share page emai...</td>\n",
       "      <td>big challenge project educate many people poss...</td>\n",
       "    </tr>\n",
       "    <tr>\n",
       "      <th>1</th>\n",
       "      <td>1560420632</td>\n",
       "      <td>/projects/941562770/nervous-dating-dating-for-...</td>\n",
       "      <td>get nervous think someone fall love time roman...</td>\n",
       "      <td>fulfilment free membership code happen run fre...</td>\n",
       "    </tr>\n",
       "    <tr>\n",
       "      <th>2</th>\n",
       "      <td>278626358</td>\n",
       "      <td>/projects/703843051/messenger-rock/</td>\n",
       "      <td>hi feel inner hatred wish let well messenger r...</td>\n",
       "      <td>rock quality</td>\n",
       "    </tr>\n",
       "    <tr>\n",
       "      <th>3</th>\n",
       "      <td>907761690</td>\n",
       "      <td>/projects/1407693875/wind-turbine-phone-charge...</td>\n",
       "      <td>goal project build wind turbine attach battery...</td>\n",
       "      <td>risk challenge arise overall build hope consis...</td>\n",
       "    </tr>\n",
       "    <tr>\n",
       "      <th>4</th>\n",
       "      <td>1512099429</td>\n",
       "      <td>/projects/358359447/crash-surveillance-drone-csd/</td>\n",
       "      <td>project consist building prototype make retrof...</td>\n",
       "      <td>initial project demonstrate proof concept use ...</td>\n",
       "    </tr>\n",
       "  </tbody>\n",
       "</table>\n",
       "</div>"
      ],
      "text/plain": [
       "   project_id                                    project_address  \\\n",
       "0   804380059    /projects/1552697291/ufactory-3d-printing-shop/   \n",
       "1  1560420632  /projects/941562770/nervous-dating-dating-for-...   \n",
       "2   278626358                /projects/703843051/messenger-rock/   \n",
       "3   907761690  /projects/1407693875/wind-turbine-phone-charge...   \n",
       "4  1512099429  /projects/358359447/crash-surveillance-drone-csd/   \n",
       "\n",
       "                                          desc_total  \\\n",
       "0  follow facebook twitter please share page emai...   \n",
       "1  get nervous think someone fall love time roman...   \n",
       "2  hi feel inner hatred wish let well messenger r...   \n",
       "3  goal project build wind turbine attach battery...   \n",
       "4  project consist building prototype make retrof...   \n",
       "\n",
       "                                           risk_desc  \n",
       "0  big challenge project educate many people poss...  \n",
       "1  fulfilment free membership code happen run fre...  \n",
       "2                                       rock quality  \n",
       "3  risk challenge arise overall build hope consis...  \n",
       "4  initial project demonstrate proof concept use ...  "
      ]
     },
     "execution_count": 15,
     "metadata": {},
     "output_type": "execute_result"
    }
   ],
   "source": [
    "desc_total.head()"
   ]
  },
  {
   "cell_type": "code",
   "execution_count": 16,
   "metadata": {
    "collapsed": true
   },
   "outputs": [],
   "source": [
    "desc_total.to_csv('validation.csv')"
   ]
  }
 ],
 "metadata": {
  "kernelspec": {
   "display_name": "py35",
   "language": "python",
   "name": "py35"
  },
  "language_info": {
   "codemirror_mode": {
    "name": "ipython",
    "version": 2
   },
   "file_extension": ".py",
   "mimetype": "text/x-python",
   "name": "python",
   "nbconvert_exporter": "python",
   "pygments_lexer": "ipython2",
   "version": "2.7.12"
  }
 },
 "nbformat": 4,
 "nbformat_minor": 0
}
