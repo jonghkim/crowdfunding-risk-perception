{
 "cells": [
  {
   "cell_type": "code",
   "execution_count": 1,
   "metadata": {
    "collapsed": true
   },
   "outputs": [],
   "source": [
    "import pandas as pd"
   ]
  },
  {
   "cell_type": "code",
   "execution_count": 2,
   "metadata": {
    "collapsed": true
   },
   "outputs": [],
   "source": [
    "desc_df = pd.read_excel(\"../data/desc.xlsx\")"
   ]
  },
  {
   "cell_type": "code",
   "execution_count": 3,
   "metadata": {
    "collapsed": true
   },
   "outputs": [],
   "source": [
    "risk_desc_df = desc_df[['project_id', 'project_address']]"
   ]
  },
  {
   "cell_type": "code",
   "execution_count": 4,
   "metadata": {
    "collapsed": true
   },
   "outputs": [],
   "source": [
    "#-*- coding: utf-8 -*-\n",
    "import os\n",
    "from appscript import *\n",
    "import warnings\n",
    "import webbrowser\n",
    "\n",
    "warnings.filterwarnings('ignore')"
   ]
  },
  {
   "cell_type": "markdown",
   "metadata": {},
   "source": [
    "# TEST CODE\n",
    "\n",
    "osascript -e 'tell application \"Google Chrome\" to tell tab 1 of window 1\n",
    "                open location \"https://www.kickstarter.com/projects/1552697291/ufactory-3d-printing-shop/\"\n",
    "                delay 4\n",
    "                set html_returned to missing value\n",
    "                set html_returned to (execute javascript \"document.documentElement.innerHTML\")\n",
    "                set myFile to open for access \"/Users/jonghkim/dev_jhk/Research/Crowdfunding/Speech_Emotion/risk-perception/notebook/html/temp.html\" with write permission\n",
    "                write html_returned to myFile\n",
    "                close access myFile\n",
    "              end tell'   "
   ]
  },
  {
   "cell_type": "markdown",
   "metadata": {},
   "source": [
    "osascript -e 'tell application \"Google Chrome\" to tell tab 1 of window 1\n",
    "        if not (exists window 1) then reopen\n",
    "        set URL to \"https://www.kickstarter.com/projects/1552697291/ufactory-3d-printing-shop/\"\n",
    "        delay 8\n",
    "        set html_returned to missing value\n",
    "        set html_returned to (execute JavaScript \"document.documentElement.innerHTML\") \n",
    "        set myFile to open for access \"/Users/jonghkim/dev_jhk/Research/Crowdfunding/Speech_Emotion/risk-perception/notebook/html/temp.html\" with write permission\n",
    "        write html_returned to myFile\n",
    "        close access myFile        \n",
    "        end tell'"
   ]
  },
  {
   "cell_type": "code",
   "execution_count": 5,
   "metadata": {
    "collapsed": true
   },
   "outputs": [],
   "source": [
    "def trick_save(url, fname):\n",
    "        cmd = \"\"\"osascript -e 'tell document 1 of application \"Safari\"\n",
    "            set URL to \"{url}\"\n",
    "            set the_state to missing value\n",
    "            repeat until the_state is \"complete\"\n",
    "                set the_state to (do JavaScript \"document.readyState\")\n",
    "                delay 0.2\n",
    "            end repeat\n",
    "            delay 4\n",
    "            set html_returned to missing value\n",
    "            set html_returned to (do JavaScript \"document.body.innerHTML\")\n",
    "            set myFile to open for access \"{write_path}\" with write permission\n",
    "            write html_returned to myFile\n",
    "            close access myFile\n",
    "            end tell'\"\"\".format(url=url, write_path = fname)\n",
    "        os.system(cmd)"
   ]
  },
  {
   "cell_type": "code",
   "execution_count": 6,
   "metadata": {
    "collapsed": true
   },
   "outputs": [],
   "source": [
    "from bs4 import BeautifulSoup\n",
    "\n",
    "def parse_risk_text(fname):\n",
    "    try:\n",
    "        text = open(fname, \"r\").read()\n",
    "        text = text.partition(\"Risks and challenges\")[2]\n",
    "        text = text.partition(\"Questions about this project?\")[0]\n",
    "\n",
    "        soup = BeautifulSoup(text, 'html.parser')\n",
    "        matched = soup.findAll(attrs={'class':'js-risks-text'})[0].contents[0]\n",
    "\n",
    "        return matched\n",
    "    except:\n",
    "        return \"\""
   ]
  },
  {
   "cell_type": "code",
   "execution_count": 7,
   "metadata": {
    "collapsed": true
   },
   "outputs": [],
   "source": [
    "cwd = os.getcwd()"
   ]
  },
  {
   "cell_type": "code",
   "execution_count": 8,
   "metadata": {
    "collapsed": false
   },
   "outputs": [
    {
     "data": {
      "text/plain": [
       "True"
      ]
     },
     "execution_count": 8,
     "metadata": {},
     "output_type": "execute_result"
    }
   ],
   "source": [
    "browser = webbrowser.get('safari')\n",
    "browser.open(\"https://www.example.com\")"
   ]
  },
  {
   "cell_type": "code",
   "execution_count": 9,
   "metadata": {
    "collapsed": true
   },
   "outputs": [],
   "source": [
    "safari = app(\"Safari\")"
   ]
  },
  {
   "cell_type": "code",
   "execution_count": 12,
   "metadata": {
    "collapsed": false,
    "scrolled": true
   },
   "outputs": [
    {
     "name": "stderr",
     "output_type": "stream",
     "text": [
      " 78%|███████▊  | 5913/7571 [02:43<00:08, 188.80it/s]"
     ]
    },
    {
     "name": "stdout",
     "output_type": "stream",
     "text": [
      "Exception at 5868\n"
     ]
    },
    {
     "name": "stderr",
     "output_type": "stream",
     "text": [
      " 79%|███████▉  | 5990/7571 [02:48<00:43, 36.09it/s]"
     ]
    },
    {
     "name": "stdout",
     "output_type": "stream",
     "text": [
      "Exception at 6010\n"
     ]
    },
    {
     "name": "stderr",
     "output_type": "stream",
     "text": [
      "100%|██████████| 7571/7571 [03:32<00:00, 35.68it/s]\n"
     ]
    }
   ],
   "source": [
    "import os\n",
    "import tqdm\n",
    "import time\n",
    "\n",
    "risk_desc_list = []\n",
    "\n",
    "for i, r in tqdm.tqdm(risk_desc_df.iterrows(), total=risk_desc_df.shape[0]):\n",
    "    fpath = cwd + \"/html/{}.html\".format(i)\n",
    "    try:\n",
    "        if os.path.exists(fpath)==True:\n",
    "            matched_text = parse_risk_text(fpath)\n",
    "\n",
    "            if len(matched_text) ==0:\n",
    "                url = 'https://www.kickstarter.com'+r['project_address']\n",
    "                trick_save(url, fpath)\n",
    "                matched_text = parse_risk_text(fpath)\n",
    "                #time.sleep(3)            \n",
    "\n",
    "        else:\n",
    "            url = 'https://www.kickstarter.com'+r['project_address']\n",
    "            trick_save(url, fpath)\n",
    "            matched_text = parse_risk_text(fpath)\n",
    "            #time.sleep(3)            \n",
    "\n",
    "        risk_desc_list.append(matched_text)\n",
    "    except:\n",
    "        print(\"Exception at {}\".format(i))\n",
    "        risk_desc_list.append('')"
   ]
  },
  {
   "cell_type": "code",
   "execution_count": 13,
   "metadata": {
    "collapsed": true
   },
   "outputs": [],
   "source": [
    "risk_desc_df['text'] = risk_desc_list"
   ]
  },
  {
   "cell_type": "code",
   "execution_count": 14,
   "metadata": {
    "collapsed": true
   },
   "outputs": [],
   "source": [
    "risk_desc_df.to_pickle('risk_desc_df_trick.pkl')"
   ]
  },
  {
   "cell_type": "code",
   "execution_count": 15,
   "metadata": {
    "collapsed": true
   },
   "outputs": [],
   "source": [
    "risk_desc_df.to_csv('risk_desc_df_trick.csv', encoding='utf-8')"
   ]
  },
  {
   "cell_type": "code",
   "execution_count": 17,
   "metadata": {
    "collapsed": true
   },
   "outputs": [],
   "source": [
    "risk_desc_df.to_excel('risk_desc_df.xlsx', encoding='utf-8')"
   ]
  },
  {
   "cell_type": "code",
   "execution_count": null,
   "metadata": {
    "collapsed": true
   },
   "outputs": [],
   "source": []
  }
 ],
 "metadata": {
  "kernelspec": {
   "display_name": "py35",
   "language": "python",
   "name": "py35"
  },
  "language_info": {
   "codemirror_mode": {
    "name": "ipython",
    "version": 2
   },
   "file_extension": ".py",
   "mimetype": "text/x-python",
   "name": "python",
   "nbconvert_exporter": "python",
   "pygments_lexer": "ipython2",
   "version": "2.7.12"
  }
 },
 "nbformat": 4,
 "nbformat_minor": 2
}
