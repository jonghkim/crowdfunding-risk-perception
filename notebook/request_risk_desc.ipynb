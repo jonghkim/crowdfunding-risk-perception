{
 "cells": [
  {
   "cell_type": "code",
   "execution_count": 1,
   "metadata": {
    "collapsed": true
   },
   "outputs": [],
   "source": [
    "import pandas as pd"
   ]
  },
  {
   "cell_type": "code",
   "execution_count": 2,
   "metadata": {
    "collapsed": true
   },
   "outputs": [],
   "source": [
    "desc_df = pd.read_excel(\"../data/desc.xlsx\")"
   ]
  },
  {
   "cell_type": "code",
   "execution_count": 3,
   "metadata": {},
   "outputs": [
    {
     "data": {
      "text/html": [
       "<div>\n",
       "<style>\n",
       "    .dataframe thead tr:only-child th {\n",
       "        text-align: right;\n",
       "    }\n",
       "\n",
       "    .dataframe thead th {\n",
       "        text-align: left;\n",
       "    }\n",
       "\n",
       "    .dataframe tbody tr th {\n",
       "        vertical-align: top;\n",
       "    }\n",
       "</style>\n",
       "<table border=\"1\" class=\"dataframe\">\n",
       "  <thead>\n",
       "    <tr style=\"text-align: right;\">\n",
       "      <th></th>\n",
       "      <th>project_id</th>\n",
       "      <th>project_address</th>\n",
       "      <th>desc_total</th>\n",
       "      <th>video_desc</th>\n",
       "      <th>risk_desc</th>\n",
       "    </tr>\n",
       "  </thead>\n",
       "  <tbody>\n",
       "    <tr>\n",
       "      <th>0</th>\n",
       "      <td>804380059</td>\n",
       "      <td>/projects/1552697291/ufactory-3d-printing-shop/</td>\n",
       "      <td>Follow us on  Facebook  and  Twitter 횂혻and pl...</td>\n",
       "      <td>my name is Matt Elkins not here to tell you a...</td>\n",
       "      <td>Risks and challenges The biggest challenge of...</td>\n",
       "    </tr>\n",
       "    <tr>\n",
       "      <th>1</th>\n",
       "      <td>1560420632</td>\n",
       "      <td>/projects/941562770/nervous-dating-dating-for-...</td>\n",
       "      <td>\"I get very nervous when I think someone is f...</td>\n",
       "      <td>introverts the idea of going on the site can ...</td>\n",
       "      <td>Risks and challenges Fulfilment of your 'free...</td>\n",
       "    </tr>\n",
       "    <tr>\n",
       "      <th>2</th>\n",
       "      <td>278626358</td>\n",
       "      <td>/projects/703843051/messenger-rock/</td>\n",
       "      <td>Hi, do you feel an inner hatred that you wish...</td>\n",
       "      <td>NaN</td>\n",
       "      <td>Risks and challenges The rock quality. Learn ...</td>\n",
       "    </tr>\n",
       "    <tr>\n",
       "      <th>3</th>\n",
       "      <td>907761690</td>\n",
       "      <td>/projects/1407693875/wind-turbine-phone-charge...</td>\n",
       "      <td>The goal of my project is to build a wind tur...</td>\n",
       "      <td>NaN</td>\n",
       "      <td>Risks and challenges The risks and challenges...</td>\n",
       "    </tr>\n",
       "    <tr>\n",
       "      <th>4</th>\n",
       "      <td>1512099429</td>\n",
       "      <td>/projects/358359447/crash-surveillance-drone-csd/</td>\n",
       "      <td>The project will consist of building a protot...</td>\n",
       "      <td>NaN</td>\n",
       "      <td>Risks and challenges The initial project is t...</td>\n",
       "    </tr>\n",
       "  </tbody>\n",
       "</table>\n",
       "</div>"
      ],
      "text/plain": [
       "   project_id                                    project_address  \\\n",
       "0   804380059    /projects/1552697291/ufactory-3d-printing-shop/   \n",
       "1  1560420632  /projects/941562770/nervous-dating-dating-for-...   \n",
       "2   278626358                /projects/703843051/messenger-rock/   \n",
       "3   907761690  /projects/1407693875/wind-turbine-phone-charge...   \n",
       "4  1512099429  /projects/358359447/crash-surveillance-drone-csd/   \n",
       "\n",
       "                                          desc_total  \\\n",
       "0   Follow us on  Facebook  and  Twitter 횂혻and pl...   \n",
       "1   \"I get very nervous when I think someone is f...   \n",
       "2   Hi, do you feel an inner hatred that you wish...   \n",
       "3   The goal of my project is to build a wind tur...   \n",
       "4   The project will consist of building a protot...   \n",
       "\n",
       "                                          video_desc  \\\n",
       "0   my name is Matt Elkins not here to tell you a...   \n",
       "1   introverts the idea of going on the site can ...   \n",
       "2                                                NaN   \n",
       "3                                                NaN   \n",
       "4                                                NaN   \n",
       "\n",
       "                                           risk_desc  \n",
       "0   Risks and challenges The biggest challenge of...  \n",
       "1   Risks and challenges Fulfilment of your 'free...  \n",
       "2   Risks and challenges The rock quality. Learn ...  \n",
       "3   Risks and challenges The risks and challenges...  \n",
       "4   Risks and challenges The initial project is t...  "
      ]
     },
     "execution_count": 3,
     "metadata": {},
     "output_type": "execute_result"
    }
   ],
   "source": [
    "desc_df.head()"
   ]
  },
  {
   "cell_type": "markdown",
   "metadata": {},
   "source": [
    "# Risk Perception"
   ]
  },
  {
   "cell_type": "code",
   "execution_count": 4,
   "metadata": {},
   "outputs": [
    {
     "data": {
      "text/html": [
       "<div>\n",
       "<style>\n",
       "    .dataframe thead tr:only-child th {\n",
       "        text-align: right;\n",
       "    }\n",
       "\n",
       "    .dataframe thead th {\n",
       "        text-align: left;\n",
       "    }\n",
       "\n",
       "    .dataframe tbody tr th {\n",
       "        vertical-align: top;\n",
       "    }\n",
       "</style>\n",
       "<table border=\"1\" class=\"dataframe\">\n",
       "  <thead>\n",
       "    <tr style=\"text-align: right;\">\n",
       "      <th></th>\n",
       "      <th>project_id</th>\n",
       "      <th>project_address</th>\n",
       "      <th>desc_total</th>\n",
       "      <th>video_desc</th>\n",
       "      <th>risk_desc</th>\n",
       "    </tr>\n",
       "  </thead>\n",
       "  <tbody>\n",
       "    <tr>\n",
       "      <th>0</th>\n",
       "      <td>804380059</td>\n",
       "      <td>/projects/1552697291/ufactory-3d-printing-shop/</td>\n",
       "      <td>Follow us on  Facebook  and  Twitter 횂혻and pl...</td>\n",
       "      <td>my name is Matt Elkins not here to tell you a...</td>\n",
       "      <td>Risks and challenges The biggest challenge of...</td>\n",
       "    </tr>\n",
       "    <tr>\n",
       "      <th>1</th>\n",
       "      <td>1560420632</td>\n",
       "      <td>/projects/941562770/nervous-dating-dating-for-...</td>\n",
       "      <td>\"I get very nervous when I think someone is f...</td>\n",
       "      <td>introverts the idea of going on the site can ...</td>\n",
       "      <td>Risks and challenges Fulfilment of your 'free...</td>\n",
       "    </tr>\n",
       "    <tr>\n",
       "      <th>2</th>\n",
       "      <td>278626358</td>\n",
       "      <td>/projects/703843051/messenger-rock/</td>\n",
       "      <td>Hi, do you feel an inner hatred that you wish...</td>\n",
       "      <td>NaN</td>\n",
       "      <td>Risks and challenges The rock quality. Learn ...</td>\n",
       "    </tr>\n",
       "    <tr>\n",
       "      <th>3</th>\n",
       "      <td>907761690</td>\n",
       "      <td>/projects/1407693875/wind-turbine-phone-charge...</td>\n",
       "      <td>The goal of my project is to build a wind tur...</td>\n",
       "      <td>NaN</td>\n",
       "      <td>Risks and challenges The risks and challenges...</td>\n",
       "    </tr>\n",
       "    <tr>\n",
       "      <th>4</th>\n",
       "      <td>1512099429</td>\n",
       "      <td>/projects/358359447/crash-surveillance-drone-csd/</td>\n",
       "      <td>The project will consist of building a protot...</td>\n",
       "      <td>NaN</td>\n",
       "      <td>Risks and challenges The initial project is t...</td>\n",
       "    </tr>\n",
       "  </tbody>\n",
       "</table>\n",
       "</div>"
      ],
      "text/plain": [
       "   project_id                                    project_address  \\\n",
       "0   804380059    /projects/1552697291/ufactory-3d-printing-shop/   \n",
       "1  1560420632  /projects/941562770/nervous-dating-dating-for-...   \n",
       "2   278626358                /projects/703843051/messenger-rock/   \n",
       "3   907761690  /projects/1407693875/wind-turbine-phone-charge...   \n",
       "4  1512099429  /projects/358359447/crash-surveillance-drone-csd/   \n",
       "\n",
       "                                          desc_total  \\\n",
       "0   Follow us on  Facebook  and  Twitter 횂혻and pl...   \n",
       "1   \"I get very nervous when I think someone is f...   \n",
       "2   Hi, do you feel an inner hatred that you wish...   \n",
       "3   The goal of my project is to build a wind tur...   \n",
       "4   The project will consist of building a protot...   \n",
       "\n",
       "                                          video_desc  \\\n",
       "0   my name is Matt Elkins not here to tell you a...   \n",
       "1   introverts the idea of going on the site can ...   \n",
       "2                                                NaN   \n",
       "3                                                NaN   \n",
       "4                                                NaN   \n",
       "\n",
       "                                           risk_desc  \n",
       "0   Risks and challenges The biggest challenge of...  \n",
       "1   Risks and challenges Fulfilment of your 'free...  \n",
       "2   Risks and challenges The rock quality. Learn ...  \n",
       "3   Risks and challenges The risks and challenges...  \n",
       "4   Risks and challenges The initial project is t...  "
      ]
     },
     "execution_count": 4,
     "metadata": {},
     "output_type": "execute_result"
    }
   ],
   "source": [
    "desc_df.head()"
   ]
  },
  {
   "cell_type": "code",
   "execution_count": 11,
   "metadata": {
    "collapsed": true
   },
   "outputs": [],
   "source": [
    "risk_desc_df = desc_df[['project_id', 'project_address']]"
   ]
  },
  {
   "cell_type": "markdown",
   "metadata": {},
   "source": [
    "## Request"
   ]
  },
  {
   "cell_type": "code",
   "execution_count": 6,
   "metadata": {
    "collapsed": true
   },
   "outputs": [],
   "source": [
    "risk_desc_df = pd.read_pickle('risk_desc_df.pkl')"
   ]
  },
  {
   "cell_type": "code",
   "execution_count": 7,
   "metadata": {
    "collapsed": true
   },
   "outputs": [],
   "source": [
    "from selenium import webdriver\n",
    "\n",
    "browser = webdriver.Chrome('chromedriver')"
   ]
  },
  {
   "cell_type": "code",
   "execution_count": null,
   "metadata": {
    "scrolled": true
   },
   "outputs": [
    {
     "name": "stdout",
     "output_type": "stream",
     "text": [
      "0\n",
      "1\n",
      "2\n",
      "3\n",
      "4\n",
      "5\n",
      "6\n",
      "7\n",
      "8\n",
      "9\n",
      "10\n",
      "11\n",
      "12\n",
      "13\n",
      "14\n",
      "15\n",
      "16\n",
      "17\n",
      "18\n",
      "19\n",
      "20\n",
      "21\n",
      "22\n",
      "23\n",
      "24\n",
      "25\n",
      "26\n",
      "27\n",
      "28\n",
      "29\n",
      "30\n",
      "31\n",
      "32\n",
      "33\n",
      "34\n",
      "35\n",
      "36\n",
      "37\n",
      "38\n",
      "39\n",
      "40\n",
      "41\n",
      "42\n",
      "43\n",
      "44\n",
      "45\n",
      "46\n",
      "47\n",
      "48\n",
      "49\n",
      "50\n",
      "51\n",
      "52\n",
      "53\n",
      "54\n",
      "55\n",
      "56\n",
      "57\n",
      "58\n",
      "59\n",
      "60\n",
      "61\n",
      "62\n",
      "63\n",
      "64\n",
      "65\n",
      "66\n",
      "67\n",
      "68\n",
      "69\n",
      "70\n",
      "71\n",
      "72\n",
      "73\n",
      "74\n",
      "75\n",
      "76\n",
      "77\n",
      "78\n",
      "79\n",
      "80\n",
      "81\n",
      "82\n",
      "83\n",
      "84\n",
      "85\n",
      "86\n",
      "87\n",
      "88\n",
      "89\n",
      "90\n",
      "91\n",
      "92\n",
      "93\n",
      "94\n",
      "95\n",
      "96\n",
      "97\n",
      "98\n",
      "99\n",
      "100\n",
      "101\n",
      "102\n",
      "103\n",
      "104\n",
      "105\n",
      "106\n",
      "107\n",
      "108\n",
      "109\n",
      "110\n",
      "111\n",
      "112\n",
      "113\n",
      "114\n",
      "115\n",
      "116\n",
      "117\n",
      "118\n",
      "119\n",
      "120\n",
      "121\n",
      "122\n",
      "123\n",
      "124\n",
      "125\n",
      "126\n",
      "127\n",
      "128\n",
      "129\n",
      "130\n",
      "131\n",
      "132\n",
      "133\n",
      "134\n",
      "135\n",
      "136\n",
      "137\n",
      "138\n",
      "139\n",
      "140\n",
      "141\n",
      "142\n",
      "143\n",
      "144\n",
      "145\n",
      "146\n",
      "147\n",
      "148\n",
      "149\n",
      "150\n",
      "151\n",
      "152\n",
      "153\n",
      "154\n",
      "155\n",
      "156\n",
      "157\n",
      "158\n",
      "159\n",
      "160\n",
      "161\n",
      "162\n",
      "163\n",
      "164\n",
      "165\n",
      "166\n",
      "167\n",
      "168\n",
      "169\n",
      "170\n",
      "171\n",
      "172\n",
      "173\n"
     ]
    }
   ],
   "source": [
    "risk_desc_list = []\n",
    "\n",
    "for i, r in risk_desc_df.iterrows():\n",
    "    print(i)\n",
    "    if len(r['text'])==0:\n",
    "        try:\n",
    "            url = 'https://www.kickstarter.com'+r['project_address']\n",
    "            browser.get(url)  \n",
    "            browser.set_page_load_timeout(45)\n",
    "            browser.implicitly_wait(10)\n",
    "\n",
    "            text= browser.find_element_by_class_name('js-risks-text').text\n",
    "            risk_desc_list.append(text)\n",
    "        except:\n",
    "            risk_desc_list.append('')\n",
    "    else:\n",
    "        risk_desc_list.append(r['text'])"
   ]
  },
  {
   "cell_type": "code",
   "execution_count": null,
   "metadata": {
    "collapsed": true
   },
   "outputs": [],
   "source": [
    "browser.close()"
   ]
  },
  {
   "cell_type": "code",
   "execution_count": null,
   "metadata": {
    "collapsed": true
   },
   "outputs": [],
   "source": [
    "risk_desc_df.shape"
   ]
  },
  {
   "cell_type": "code",
   "execution_count": null,
   "metadata": {
    "collapsed": true
   },
   "outputs": [],
   "source": [
    "risk_desc_df['text'] = risk_desc_list"
   ]
  },
  {
   "cell_type": "code",
   "execution_count": null,
   "metadata": {
    "collapsed": true
   },
   "outputs": [],
   "source": [
    "risk_desc_df.to_pickle('risk_desc_df.pkl')"
   ]
  },
  {
   "cell_type": "code",
   "execution_count": null,
   "metadata": {
    "collapsed": true
   },
   "outputs": [],
   "source": [
    "risk_desc_df.to_csv('risk_desc_df.csv', encoding='utf-8')"
   ]
  },
  {
   "cell_type": "code",
   "execution_count": null,
   "metadata": {
    "collapsed": true
   },
   "outputs": [],
   "source": [
    "risk_desc_df.to_excel('risk_desc_df.xlsx', encoding='utf-8')"
   ]
  },
  {
   "cell_type": "code",
   "execution_count": null,
   "metadata": {
    "collapsed": true
   },
   "outputs": [],
   "source": []
  }
 ],
 "metadata": {
  "kernelspec": {
   "display_name": "py35",
   "language": "python",
   "name": "py35"
  },
  "language_info": {
   "codemirror_mode": {
    "name": "ipython",
    "version": 2
   },
   "file_extension": ".py",
   "mimetype": "text/x-python",
   "name": "python",
   "nbconvert_exporter": "python",
   "pygments_lexer": "ipython2",
   "version": "2.7.12"
  }
 },
 "nbformat": 4,
 "nbformat_minor": 1
}
