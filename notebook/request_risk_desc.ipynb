{
 "cells": [
  {
   "cell_type": "code",
   "execution_count": 1,
   "metadata": {
    "collapsed": true
   },
   "outputs": [],
   "source": [
    "import pandas as pd"
   ]
  },
  {
   "cell_type": "code",
   "execution_count": 2,
   "metadata": {
    "collapsed": true
   },
   "outputs": [],
   "source": [
    "desc_df = pd.read_excel(\"../data/desc.xlsx\")"
   ]
  },
  {
   "cell_type": "code",
   "execution_count": 3,
   "metadata": {},
   "outputs": [
    {
     "data": {
      "text/html": [
       "<div>\n",
       "<style>\n",
       "    .dataframe thead tr:only-child th {\n",
       "        text-align: right;\n",
       "    }\n",
       "\n",
       "    .dataframe thead th {\n",
       "        text-align: left;\n",
       "    }\n",
       "\n",
       "    .dataframe tbody tr th {\n",
       "        vertical-align: top;\n",
       "    }\n",
       "</style>\n",
       "<table border=\"1\" class=\"dataframe\">\n",
       "  <thead>\n",
       "    <tr style=\"text-align: right;\">\n",
       "      <th></th>\n",
       "      <th>project_id</th>\n",
       "      <th>project_address</th>\n",
       "      <th>desc_total</th>\n",
       "      <th>video_desc</th>\n",
       "      <th>risk_desc</th>\n",
       "    </tr>\n",
       "  </thead>\n",
       "  <tbody>\n",
       "    <tr>\n",
       "      <th>0</th>\n",
       "      <td>804380059</td>\n",
       "      <td>/projects/1552697291/ufactory-3d-printing-shop/</td>\n",
       "      <td>Follow us on  Facebook  and  Twitter 횂혻and pl...</td>\n",
       "      <td>my name is Matt Elkins not here to tell you a...</td>\n",
       "      <td>Risks and challenges The biggest challenge of...</td>\n",
       "    </tr>\n",
       "    <tr>\n",
       "      <th>1</th>\n",
       "      <td>1560420632</td>\n",
       "      <td>/projects/941562770/nervous-dating-dating-for-...</td>\n",
       "      <td>\"I get very nervous when I think someone is f...</td>\n",
       "      <td>introverts the idea of going on the site can ...</td>\n",
       "      <td>Risks and challenges Fulfilment of your 'free...</td>\n",
       "    </tr>\n",
       "    <tr>\n",
       "      <th>2</th>\n",
       "      <td>278626358</td>\n",
       "      <td>/projects/703843051/messenger-rock/</td>\n",
       "      <td>Hi, do you feel an inner hatred that you wish...</td>\n",
       "      <td>NaN</td>\n",
       "      <td>Risks and challenges The rock quality. Learn ...</td>\n",
       "    </tr>\n",
       "    <tr>\n",
       "      <th>3</th>\n",
       "      <td>907761690</td>\n",
       "      <td>/projects/1407693875/wind-turbine-phone-charge...</td>\n",
       "      <td>The goal of my project is to build a wind tur...</td>\n",
       "      <td>NaN</td>\n",
       "      <td>Risks and challenges The risks and challenges...</td>\n",
       "    </tr>\n",
       "    <tr>\n",
       "      <th>4</th>\n",
       "      <td>1512099429</td>\n",
       "      <td>/projects/358359447/crash-surveillance-drone-csd/</td>\n",
       "      <td>The project will consist of building a protot...</td>\n",
       "      <td>NaN</td>\n",
       "      <td>Risks and challenges The initial project is t...</td>\n",
       "    </tr>\n",
       "  </tbody>\n",
       "</table>\n",
       "</div>"
      ],
      "text/plain": [
       "   project_id                                    project_address  \\\n",
       "0   804380059    /projects/1552697291/ufactory-3d-printing-shop/   \n",
       "1  1560420632  /projects/941562770/nervous-dating-dating-for-...   \n",
       "2   278626358                /projects/703843051/messenger-rock/   \n",
       "3   907761690  /projects/1407693875/wind-turbine-phone-charge...   \n",
       "4  1512099429  /projects/358359447/crash-surveillance-drone-csd/   \n",
       "\n",
       "                                          desc_total  \\\n",
       "0   Follow us on  Facebook  and  Twitter 횂혻and pl...   \n",
       "1   \"I get very nervous when I think someone is f...   \n",
       "2   Hi, do you feel an inner hatred that you wish...   \n",
       "3   The goal of my project is to build a wind tur...   \n",
       "4   The project will consist of building a protot...   \n",
       "\n",
       "                                          video_desc  \\\n",
       "0   my name is Matt Elkins not here to tell you a...   \n",
       "1   introverts the idea of going on the site can ...   \n",
       "2                                                NaN   \n",
       "3                                                NaN   \n",
       "4                                                NaN   \n",
       "\n",
       "                                           risk_desc  \n",
       "0   Risks and challenges The biggest challenge of...  \n",
       "1   Risks and challenges Fulfilment of your 'free...  \n",
       "2   Risks and challenges The rock quality. Learn ...  \n",
       "3   Risks and challenges The risks and challenges...  \n",
       "4   Risks and challenges The initial project is t...  "
      ]
     },
     "execution_count": 3,
     "metadata": {},
     "output_type": "execute_result"
    }
   ],
   "source": [
    "desc_df.head()"
   ]
  },
  {
   "cell_type": "markdown",
   "metadata": {},
   "source": [
    "# Risk Perception"
   ]
  },
  {
   "cell_type": "code",
   "execution_count": 4,
   "metadata": {},
   "outputs": [
    {
     "data": {
      "text/html": [
       "<div>\n",
       "<style>\n",
       "    .dataframe thead tr:only-child th {\n",
       "        text-align: right;\n",
       "    }\n",
       "\n",
       "    .dataframe thead th {\n",
       "        text-align: left;\n",
       "    }\n",
       "\n",
       "    .dataframe tbody tr th {\n",
       "        vertical-align: top;\n",
       "    }\n",
       "</style>\n",
       "<table border=\"1\" class=\"dataframe\">\n",
       "  <thead>\n",
       "    <tr style=\"text-align: right;\">\n",
       "      <th></th>\n",
       "      <th>project_id</th>\n",
       "      <th>project_address</th>\n",
       "      <th>desc_total</th>\n",
       "      <th>video_desc</th>\n",
       "      <th>risk_desc</th>\n",
       "    </tr>\n",
       "  </thead>\n",
       "  <tbody>\n",
       "    <tr>\n",
       "      <th>0</th>\n",
       "      <td>804380059</td>\n",
       "      <td>/projects/1552697291/ufactory-3d-printing-shop/</td>\n",
       "      <td>Follow us on  Facebook  and  Twitter 횂혻and pl...</td>\n",
       "      <td>my name is Matt Elkins not here to tell you a...</td>\n",
       "      <td>Risks and challenges The biggest challenge of...</td>\n",
       "    </tr>\n",
       "    <tr>\n",
       "      <th>1</th>\n",
       "      <td>1560420632</td>\n",
       "      <td>/projects/941562770/nervous-dating-dating-for-...</td>\n",
       "      <td>\"I get very nervous when I think someone is f...</td>\n",
       "      <td>introverts the idea of going on the site can ...</td>\n",
       "      <td>Risks and challenges Fulfilment of your 'free...</td>\n",
       "    </tr>\n",
       "    <tr>\n",
       "      <th>2</th>\n",
       "      <td>278626358</td>\n",
       "      <td>/projects/703843051/messenger-rock/</td>\n",
       "      <td>Hi, do you feel an inner hatred that you wish...</td>\n",
       "      <td>NaN</td>\n",
       "      <td>Risks and challenges The rock quality. Learn ...</td>\n",
       "    </tr>\n",
       "    <tr>\n",
       "      <th>3</th>\n",
       "      <td>907761690</td>\n",
       "      <td>/projects/1407693875/wind-turbine-phone-charge...</td>\n",
       "      <td>The goal of my project is to build a wind tur...</td>\n",
       "      <td>NaN</td>\n",
       "      <td>Risks and challenges The risks and challenges...</td>\n",
       "    </tr>\n",
       "    <tr>\n",
       "      <th>4</th>\n",
       "      <td>1512099429</td>\n",
       "      <td>/projects/358359447/crash-surveillance-drone-csd/</td>\n",
       "      <td>The project will consist of building a protot...</td>\n",
       "      <td>NaN</td>\n",
       "      <td>Risks and challenges The initial project is t...</td>\n",
       "    </tr>\n",
       "  </tbody>\n",
       "</table>\n",
       "</div>"
      ],
      "text/plain": [
       "   project_id                                    project_address  \\\n",
       "0   804380059    /projects/1552697291/ufactory-3d-printing-shop/   \n",
       "1  1560420632  /projects/941562770/nervous-dating-dating-for-...   \n",
       "2   278626358                /projects/703843051/messenger-rock/   \n",
       "3   907761690  /projects/1407693875/wind-turbine-phone-charge...   \n",
       "4  1512099429  /projects/358359447/crash-surveillance-drone-csd/   \n",
       "\n",
       "                                          desc_total  \\\n",
       "0   Follow us on  Facebook  and  Twitter 횂혻and pl...   \n",
       "1   \"I get very nervous when I think someone is f...   \n",
       "2   Hi, do you feel an inner hatred that you wish...   \n",
       "3   The goal of my project is to build a wind tur...   \n",
       "4   The project will consist of building a protot...   \n",
       "\n",
       "                                          video_desc  \\\n",
       "0   my name is Matt Elkins not here to tell you a...   \n",
       "1   introverts the idea of going on the site can ...   \n",
       "2                                                NaN   \n",
       "3                                                NaN   \n",
       "4                                                NaN   \n",
       "\n",
       "                                           risk_desc  \n",
       "0   Risks and challenges The biggest challenge of...  \n",
       "1   Risks and challenges Fulfilment of your 'free...  \n",
       "2   Risks and challenges The rock quality. Learn ...  \n",
       "3   Risks and challenges The risks and challenges...  \n",
       "4   Risks and challenges The initial project is t...  "
      ]
     },
     "execution_count": 4,
     "metadata": {},
     "output_type": "execute_result"
    }
   ],
   "source": [
    "desc_df.head()"
   ]
  },
  {
   "cell_type": "code",
   "execution_count": 5,
   "metadata": {
    "collapsed": true
   },
   "outputs": [],
   "source": [
    "risk_desc_df = desc_df[['project_id', 'project_address']]"
   ]
  },
  {
   "cell_type": "markdown",
   "metadata": {},
   "source": [
    "## Request"
   ]
  },
  {
   "cell_type": "code",
   "execution_count": 6,
   "metadata": {
    "collapsed": true
   },
   "outputs": [],
   "source": [
    "from selenium import webdriver\n",
    "\n",
    "browser = webdriver.Chrome('chromedriver')"
   ]
  },
  {
   "cell_type": "code",
   "execution_count": null,
   "metadata": {
    "collapsed": true
   },
   "outputs": [],
   "source": [
    "from bs4 import BeautifulSoup\n",
    "\n",
    "def parse_risk_text(fname):\n",
    "    try:\n",
    "        text = open(fname, \"r\").read()\n",
    "        text = text.partition(\"Risks and challenges\")[2]\n",
    "        text = text.partition(\"Questions about this project?\")[0]\n",
    "\n",
    "        soup = BeautifulSoup(text, 'html.parser')\n",
    "        matched = soup.findAll(attrs={'class':'js-risks-text'})[0].contents[0]\n",
    "\n",
    "        return matched\n",
    "    except:\n",
    "        return \"\""
   ]
  },
  {
   "cell_type": "code",
   "execution_count": null,
   "metadata": {
    "scrolled": true
   },
   "outputs": [
    {
     "name": "stderr",
     "output_type": "stream",
     "text": [
      " 53%|█████▎    | 4041/7571 [46:07<1:16:53,  1.31s/it]"
     ]
    }
   ],
   "source": [
    "import tqdm\n",
    "import os\n",
    "import codecs\n",
    "\n",
    "\n",
    "cwd = os.getcwd()\n",
    "\n",
    "risk_desc_list = []\n",
    "\n",
    "for i, r in tqdm.tqdm(risk_desc_df.iterrows(), total=risk_desc_df.shape[0]):\n",
    "    fpath = cwd + \"/html/{}.html\".format(i)\n",
    "    try:\n",
    "        if os.path.exists(fpath)==True:\n",
    "            matched_text = parse_risk_text(fpath)\n",
    "\n",
    "            if len(matched_text) ==0:\n",
    "                url = 'https://www.kickstarter.com'+r['project_address']\n",
    "                browser.get(url)  \n",
    "                browser.set_page_load_timeout(45)\n",
    "                browser.implicitly_wait(15)\n",
    "\n",
    "                file_object = codecs.open(fpath, \"w\", \"utf-8\")\n",
    "                html = browser.execute_script(\"return document.body.innerHTML;\")                \n",
    "                flag = file_object.write(html)\n",
    "\n",
    "                matched_text = parse_risk_text(fpath)\n",
    "\n",
    "        else:\n",
    "            url = 'https://www.kickstarter.com'+r['project_address']\n",
    "            browser.get(url)  \n",
    "            browser.set_page_load_timeout(45)\n",
    "            browser.implicitly_wait(10)\n",
    "\n",
    "            file_object = codecs.open(fpath, \"w\", \"utf-8\")\n",
    "            html = browser.execute_script(\"return document.body.innerHTML;\")                \n",
    "            flag = file_object.write(html)\n",
    "\n",
    "            matched_text= browser.find_element_by_class_name('js-risks-text').text\n",
    "\n",
    "        risk_desc_list.append(matched_text)\n",
    "\n",
    "    except:\n",
    "        print(\"Exception at {}\".format(i))\n",
    "        risk_desc_list.append('')    "
   ]
  },
  {
   "cell_type": "code",
   "execution_count": null,
   "metadata": {
    "collapsed": true
   },
   "outputs": [],
   "source": [
    "browser.close()"
   ]
  },
  {
   "cell_type": "code",
   "execution_count": null,
   "metadata": {
    "collapsed": true
   },
   "outputs": [],
   "source": [
    "risk_desc_df.shape"
   ]
  },
  {
   "cell_type": "code",
   "execution_count": null,
   "metadata": {
    "collapsed": true
   },
   "outputs": [],
   "source": [
    "risk_desc_df['text'] = risk_desc_list"
   ]
  },
  {
   "cell_type": "code",
   "execution_count": null,
   "metadata": {
    "collapsed": true
   },
   "outputs": [],
   "source": [
    "risk_desc_df.to_pickle('risk_desc_df.pkl')"
   ]
  },
  {
   "cell_type": "code",
   "execution_count": null,
   "metadata": {
    "collapsed": true
   },
   "outputs": [],
   "source": [
    "risk_desc_df.to_csv('risk_desc_df.csv', encoding='utf-8')"
   ]
  },
  {
   "cell_type": "code",
   "execution_count": null,
   "metadata": {
    "collapsed": true
   },
   "outputs": [],
   "source": [
    "risk_desc_df.to_excel('risk_desc_df.xlsx', encoding='utf-8')"
   ]
  }
 ],
 "metadata": {
  "kernelspec": {
   "display_name": "py35",
   "language": "python",
   "name": "py35"
  },
  "language_info": {
   "codemirror_mode": {
    "name": "ipython",
    "version": 2
   },
   "file_extension": ".py",
   "mimetype": "text/x-python",
   "name": "python",
   "nbconvert_exporter": "python",
   "pygments_lexer": "ipython2",
   "version": "2.7.12"
  }
 },
 "nbformat": 4,
 "nbformat_minor": 1
}
